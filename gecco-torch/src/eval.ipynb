{
 "cells": [
  {
   "cell_type": "code",
   "execution_count": 18,
   "id": "4d10a8a0",
   "metadata": {},
   "outputs": [],
   "source": [
    "import torch\n",
    "import gecco_torch\n",
    "from gecco_torch.scatter import plot, combine_plots\n",
    "from gecco_torch.data.neurons import TorchNeuronNet\n",
    "from gecco_torch.utils import apply_transform\n",
    "from chamferdist import ChamferDistance"
   ]
  },
  {
   "cell_type": "code",
   "execution_count": 2,
   "id": "a2fd5e99",
   "metadata": {},
   "outputs": [
    {
     "name": "stderr",
     "output_type": "stream",
     "text": [
      "/groups/turaga/home/troidlj/micromamba/envs/gecco/lib/python3.10/site-packages/timm/models/layers/__init__.py:48: FutureWarning: Importing from timm.models.layers is deprecated, please import via timm.layers\n",
      "  warnings.warn(f\"Importing from {__name__} is deprecated, please import via timm.layers\", FutureWarning)\n"
     ]
    }
   ],
   "source": [
    "config_root = '/groups/turaga/home/troidlj/gecco/gecco-torch/example_configs'\n",
    "config = gecco_torch.load_config(f'{config_root}/neuron_conditional.py') # load the model definition\n",
    "model = config.model\n",
    "state_dict = torch.load(f'{config_root}/lightning_logs/version_39/arxiv/epoch=49-step=250000.ckpt', map_location='cuda')\n",
    "model.load_state_dict(state_dict['ema_state_dict'])\n",
    "model = model.eval()"
   ]
  },
  {
   "cell_type": "code",
   "execution_count": 3,
   "id": "73eed606",
   "metadata": {},
   "outputs": [
    {
     "name": "stdout",
     "output_type": "stream",
     "text": [
      "[4, 4, 40]\n"
     ]
    }
   ],
   "source": [
    "root = \"/nrs/turaga/jakob/autoproof_data/flywire_cave_post/cache_t5\"\n",
    "split = \"test\"\n",
    "n_points = 2048\n",
    "data = TorchNeuronNet(root, split, n_points)"
   ]
  },
  {
   "cell_type": "code",
   "execution_count": 4,
   "id": "7c4a0642",
   "metadata": {},
   "outputs": [],
   "source": [
    "idx = 700\n",
    "partial = data[idx].partial.unsqueeze(0)  # get a partial point cloud for conditioning\n",
    "points = data[idx].points.unsqueeze(0)  # get the full point cloud for comparison\n",
    "T = data[idx].T\n",
    "T_i = data[idx].T_i"
   ]
  },
  {
   "cell_type": "code",
   "execution_count": 5,
   "id": "27576a50",
   "metadata": {},
   "outputs": [
    {
     "name": "stdout",
     "output_type": "stream",
     "text": [
      "tensor(4.)\n"
     ]
    }
   ],
   "source": [
    "print (torch.sum(T_i @ T))"
   ]
  },
  {
   "cell_type": "code",
   "execution_count": 6,
   "id": "e8418916",
   "metadata": {},
   "outputs": [
    {
     "data": {
      "application/vnd.jupyter.widget-view+json": {
       "model_id": "75cbc159d907456f8dae89b6b30542f1",
       "version_major": 2,
       "version_minor": 0
      },
      "text/plain": [
       "  0%|          | 0/64 [00:00<?, ?step/s]"
      ]
     },
     "metadata": {},
     "output_type": "display_data"
    }
   ],
   "source": [
    "samples = model.sample_stochastic(\n",
    "    (10, 2048, 3), # one example with 2048 3-dimensional points\n",
    "    context=partial, # assuming an conditional model\n",
    "    with_pbar=True, # shows a tqdm progress bar for sampling\n",
    ")"
   ]
  },
  {
   "cell_type": "code",
   "execution_count": 19,
   "id": "067a69bd",
   "metadata": {},
   "outputs": [],
   "source": [
    "out = samples[8, ...].squeeze()  # get the first sample\n",
    "partial = partial.squeeze()  # get the partial point cloud\n",
    "gt = points.squeeze()  # get the ground truth point cloud"
   ]
  },
  {
   "cell_type": "code",
   "execution_count": 26,
   "id": "81a4b70b",
   "metadata": {},
   "outputs": [
    {
     "name": "stdout",
     "output_type": "stream",
     "text": [
      "torch.Size([2048, 3]) torch.float64\n",
      "torch.Size([2048, 3]) torch.float32\n",
      "Chamfer Loss: 0.0035175506491214037\n"
     ]
    }
   ],
   "source": [
    "print(out.shape, out.dtype)\n",
    "print(gt.shape, gt.dtype)\n",
    "\n",
    "out_loss = out.unsqueeze(0).to(torch.float32)\n",
    "gt_loss = gt.unsqueeze(0).to(torch.float32)\n",
    "partial_loss = partial.unsqueeze(0).to(torch.float32)\n",
    "\n",
    "chamfer_loss = ChamferDistance()\n",
    "loss = chamfer_loss(partial_loss, out_loss)  # compute the Chamfer distance between the partial and generated point clouds\n",
    "print(f\"Chamfer Loss: {loss.item()}\")"
   ]
  },
  {
   "cell_type": "code",
   "execution_count": 12,
   "id": "125875d2",
   "metadata": {},
   "outputs": [
    {
     "data": {
      "application/vnd.plotly.v1+json": {
       "config": {
        "plotlyServerURL": "https://plot.ly"
       },
       "data": [
        {
         "hovertemplate": "label=Ground Truth<br>x=%{x}<br>y=%{y}<br>z=%{z}<extra></extra>",
         "legendgroup": "Ground Truth",
         "marker": {
          "color": "#1f77b4",
          "size": 1.5,
          "symbol": "circle"
         },
         "mode": "markers",
         "name": "Ground Truth",
         "scene": "scene",
         "showlegend": true,
         "type": "scatter3d",
         "x": {
          "bdata": "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",
          "dtype": "f4"
         },
         "y": {
          "bdata": "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",
          "dtype": "f4"
         },
         "z": {
          "bdata": "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",
          "dtype": "f4"
         }
        },
        {
         "hovertemplate": "label=Partial Input<br>x=%{x}<br>y=%{y}<br>z=%{z}<extra></extra>",
         "legendgroup": "Partial Input",
         "marker": {
          "color": "#fd3f75",
          "size": 1.5,
          "symbol": "circle"
         },
         "mode": "markers",
         "name": "Partial Input",
         "scene": "scene",
         "showlegend": true,
         "type": "scatter3d",
         "x": {
          "bdata": "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",
          "dtype": "f4"
         },
         "y": {
          "bdata": "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",
          "dtype": "f4"
         },
         "z": {
          "bdata": "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",
          "dtype": "f4"
         }
        }
       ],
       "layout": {
        "legend": {
         "title": {
          "text": "label"
         },
         "tracegroupgap": 0
        },
        "margin": {
         "t": 60
        },
        "scene": {
         "domain": {
          "x": [
           0,
           1
          ],
          "y": [
           0,
           1
          ]
         },
         "xaxis": {
          "title": {
           "text": "x"
          }
         },
         "yaxis": {
          "title": {
           "text": "y"
          }
         },
         "zaxis": {
          "title": {
           "text": "z"
          }
         }
        },
        "template": {
         "data": {
          "bar": [
           {
            "error_x": {
             "color": "#2a3f5f"
            },
            "error_y": {
             "color": "#2a3f5f"
            },
            "marker": {
             "line": {
              "color": "#E5ECF6",
              "width": 0.5
             },
             "pattern": {
              "fillmode": "overlay",
              "size": 10,
              "solidity": 0.2
             }
            },
            "type": "bar"
           }
          ],
          "barpolar": [
           {
            "marker": {
             "line": {
              "color": "#E5ECF6",
              "width": 0.5
             },
             "pattern": {
              "fillmode": "overlay",
              "size": 10,
              "solidity": 0.2
             }
            },
            "type": "barpolar"
           }
          ],
          "carpet": [
           {
            "aaxis": {
             "endlinecolor": "#2a3f5f",
             "gridcolor": "white",
             "linecolor": "white",
             "minorgridcolor": "white",
             "startlinecolor": "#2a3f5f"
            },
            "baxis": {
             "endlinecolor": "#2a3f5f",
             "gridcolor": "white",
             "linecolor": "white",
             "minorgridcolor": "white",
             "startlinecolor": "#2a3f5f"
            },
            "type": "carpet"
           }
          ],
          "choropleth": [
           {
            "colorbar": {
             "outlinewidth": 0,
             "ticks": ""
            },
            "type": "choropleth"
           }
          ],
          "contour": [
           {
            "colorbar": {
             "outlinewidth": 0,
             "ticks": ""
            },
            "colorscale": [
             [
              0,
              "#0d0887"
             ],
             [
              0.1111111111111111,
              "#46039f"
             ],
             [
              0.2222222222222222,
              "#7201a8"
             ],
             [
              0.3333333333333333,
              "#9c179e"
             ],
             [
              0.4444444444444444,
              "#bd3786"
             ],
             [
              0.5555555555555556,
              "#d8576b"
             ],
             [
              0.6666666666666666,
              "#ed7953"
             ],
             [
              0.7777777777777778,
              "#fb9f3a"
             ],
             [
              0.8888888888888888,
              "#fdca26"
             ],
             [
              1,
              "#f0f921"
             ]
            ],
            "type": "contour"
           }
          ],
          "contourcarpet": [
           {
            "colorbar": {
             "outlinewidth": 0,
             "ticks": ""
            },
            "type": "contourcarpet"
           }
          ],
          "heatmap": [
           {
            "colorbar": {
             "outlinewidth": 0,
             "ticks": ""
            },
            "colorscale": [
             [
              0,
              "#0d0887"
             ],
             [
              0.1111111111111111,
              "#46039f"
             ],
             [
              0.2222222222222222,
              "#7201a8"
             ],
             [
              0.3333333333333333,
              "#9c179e"
             ],
             [
              0.4444444444444444,
              "#bd3786"
             ],
             [
              0.5555555555555556,
              "#d8576b"
             ],
             [
              0.6666666666666666,
              "#ed7953"
             ],
             [
              0.7777777777777778,
              "#fb9f3a"
             ],
             [
              0.8888888888888888,
              "#fdca26"
             ],
             [
              1,
              "#f0f921"
             ]
            ],
            "type": "heatmap"
           }
          ],
          "histogram": [
           {
            "marker": {
             "pattern": {
              "fillmode": "overlay",
              "size": 10,
              "solidity": 0.2
             }
            },
            "type": "histogram"
           }
          ],
          "histogram2d": [
           {
            "colorbar": {
             "outlinewidth": 0,
             "ticks": ""
            },
            "colorscale": [
             [
              0,
              "#0d0887"
             ],
             [
              0.1111111111111111,
              "#46039f"
             ],
             [
              0.2222222222222222,
              "#7201a8"
             ],
             [
              0.3333333333333333,
              "#9c179e"
             ],
             [
              0.4444444444444444,
              "#bd3786"
             ],
             [
              0.5555555555555556,
              "#d8576b"
             ],
             [
              0.6666666666666666,
              "#ed7953"
             ],
             [
              0.7777777777777778,
              "#fb9f3a"
             ],
             [
              0.8888888888888888,
              "#fdca26"
             ],
             [
              1,
              "#f0f921"
             ]
            ],
            "type": "histogram2d"
           }
          ],
          "histogram2dcontour": [
           {
            "colorbar": {
             "outlinewidth": 0,
             "ticks": ""
            },
            "colorscale": [
             [
              0,
              "#0d0887"
             ],
             [
              0.1111111111111111,
              "#46039f"
             ],
             [
              0.2222222222222222,
              "#7201a8"
             ],
             [
              0.3333333333333333,
              "#9c179e"
             ],
             [
              0.4444444444444444,
              "#bd3786"
             ],
             [
              0.5555555555555556,
              "#d8576b"
             ],
             [
              0.6666666666666666,
              "#ed7953"
             ],
             [
              0.7777777777777778,
              "#fb9f3a"
             ],
             [
              0.8888888888888888,
              "#fdca26"
             ],
             [
              1,
              "#f0f921"
             ]
            ],
            "type": "histogram2dcontour"
           }
          ],
          "mesh3d": [
           {
            "colorbar": {
             "outlinewidth": 0,
             "ticks": ""
            },
            "type": "mesh3d"
           }
          ],
          "parcoords": [
           {
            "line": {
             "colorbar": {
              "outlinewidth": 0,
              "ticks": ""
             }
            },
            "type": "parcoords"
           }
          ],
          "pie": [
           {
            "automargin": true,
            "type": "pie"
           }
          ],
          "scatter": [
           {
            "fillpattern": {
             "fillmode": "overlay",
             "size": 10,
             "solidity": 0.2
            },
            "type": "scatter"
           }
          ],
          "scatter3d": [
           {
            "line": {
             "colorbar": {
              "outlinewidth": 0,
              "ticks": ""
             }
            },
            "marker": {
             "colorbar": {
              "outlinewidth": 0,
              "ticks": ""
             }
            },
            "type": "scatter3d"
           }
          ],
          "scattercarpet": [
           {
            "marker": {
             "colorbar": {
              "outlinewidth": 0,
              "ticks": ""
             }
            },
            "type": "scattercarpet"
           }
          ],
          "scattergeo": [
           {
            "marker": {
             "colorbar": {
              "outlinewidth": 0,
              "ticks": ""
             }
            },
            "type": "scattergeo"
           }
          ],
          "scattergl": [
           {
            "marker": {
             "colorbar": {
              "outlinewidth": 0,
              "ticks": ""
             }
            },
            "type": "scattergl"
           }
          ],
          "scattermap": [
           {
            "marker": {
             "colorbar": {
              "outlinewidth": 0,
              "ticks": ""
             }
            },
            "type": "scattermap"
           }
          ],
          "scattermapbox": [
           {
            "marker": {
             "colorbar": {
              "outlinewidth": 0,
              "ticks": ""
             }
            },
            "type": "scattermapbox"
           }
          ],
          "scatterpolar": [
           {
            "marker": {
             "colorbar": {
              "outlinewidth": 0,
              "ticks": ""
             }
            },
            "type": "scatterpolar"
           }
          ],
          "scatterpolargl": [
           {
            "marker": {
             "colorbar": {
              "outlinewidth": 0,
              "ticks": ""
             }
            },
            "type": "scatterpolargl"
           }
          ],
          "scatterternary": [
           {
            "marker": {
             "colorbar": {
              "outlinewidth": 0,
              "ticks": ""
             }
            },
            "type": "scatterternary"
           }
          ],
          "surface": [
           {
            "colorbar": {
             "outlinewidth": 0,
             "ticks": ""
            },
            "colorscale": [
             [
              0,
              "#0d0887"
             ],
             [
              0.1111111111111111,
              "#46039f"
             ],
             [
              0.2222222222222222,
              "#7201a8"
             ],
             [
              0.3333333333333333,
              "#9c179e"
             ],
             [
              0.4444444444444444,
              "#bd3786"
             ],
             [
              0.5555555555555556,
              "#d8576b"
             ],
             [
              0.6666666666666666,
              "#ed7953"
             ],
             [
              0.7777777777777778,
              "#fb9f3a"
             ],
             [
              0.8888888888888888,
              "#fdca26"
             ],
             [
              1,
              "#f0f921"
             ]
            ],
            "type": "surface"
           }
          ],
          "table": [
           {
            "cells": {
             "fill": {
              "color": "#EBF0F8"
             },
             "line": {
              "color": "white"
             }
            },
            "header": {
             "fill": {
              "color": "#C8D4E3"
             },
             "line": {
              "color": "white"
             }
            },
            "type": "table"
           }
          ]
         },
         "layout": {
          "annotationdefaults": {
           "arrowcolor": "#2a3f5f",
           "arrowhead": 0,
           "arrowwidth": 1
          },
          "autotypenumbers": "strict",
          "coloraxis": {
           "colorbar": {
            "outlinewidth": 0,
            "ticks": ""
           }
          },
          "colorscale": {
           "diverging": [
            [
             0,
             "#8e0152"
            ],
            [
             0.1,
             "#c51b7d"
            ],
            [
             0.2,
             "#de77ae"
            ],
            [
             0.3,
             "#f1b6da"
            ],
            [
             0.4,
             "#fde0ef"
            ],
            [
             0.5,
             "#f7f7f7"
            ],
            [
             0.6,
             "#e6f5d0"
            ],
            [
             0.7,
             "#b8e186"
            ],
            [
             0.8,
             "#7fbc41"
            ],
            [
             0.9,
             "#4d9221"
            ],
            [
             1,
             "#276419"
            ]
           ],
           "sequential": [
            [
             0,
             "#0d0887"
            ],
            [
             0.1111111111111111,
             "#46039f"
            ],
            [
             0.2222222222222222,
             "#7201a8"
            ],
            [
             0.3333333333333333,
             "#9c179e"
            ],
            [
             0.4444444444444444,
             "#bd3786"
            ],
            [
             0.5555555555555556,
             "#d8576b"
            ],
            [
             0.6666666666666666,
             "#ed7953"
            ],
            [
             0.7777777777777778,
             "#fb9f3a"
            ],
            [
             0.8888888888888888,
             "#fdca26"
            ],
            [
             1,
             "#f0f921"
            ]
           ],
           "sequentialminus": [
            [
             0,
             "#0d0887"
            ],
            [
             0.1111111111111111,
             "#46039f"
            ],
            [
             0.2222222222222222,
             "#7201a8"
            ],
            [
             0.3333333333333333,
             "#9c179e"
            ],
            [
             0.4444444444444444,
             "#bd3786"
            ],
            [
             0.5555555555555556,
             "#d8576b"
            ],
            [
             0.6666666666666666,
             "#ed7953"
            ],
            [
             0.7777777777777778,
             "#fb9f3a"
            ],
            [
             0.8888888888888888,
             "#fdca26"
            ],
            [
             1,
             "#f0f921"
            ]
           ]
          },
          "colorway": [
           "#636efa",
           "#EF553B",
           "#00cc96",
           "#ab63fa",
           "#FFA15A",
           "#19d3f3",
           "#FF6692",
           "#B6E880",
           "#FF97FF",
           "#FECB52"
          ],
          "font": {
           "color": "#2a3f5f"
          },
          "geo": {
           "bgcolor": "white",
           "lakecolor": "white",
           "landcolor": "#E5ECF6",
           "showlakes": true,
           "showland": true,
           "subunitcolor": "white"
          },
          "hoverlabel": {
           "align": "left"
          },
          "hovermode": "closest",
          "mapbox": {
           "style": "light"
          },
          "paper_bgcolor": "white",
          "plot_bgcolor": "#E5ECF6",
          "polar": {
           "angularaxis": {
            "gridcolor": "white",
            "linecolor": "white",
            "ticks": ""
           },
           "bgcolor": "#E5ECF6",
           "radialaxis": {
            "gridcolor": "white",
            "linecolor": "white",
            "ticks": ""
           }
          },
          "scene": {
           "xaxis": {
            "backgroundcolor": "#E5ECF6",
            "gridcolor": "white",
            "gridwidth": 2,
            "linecolor": "white",
            "showbackground": true,
            "ticks": "",
            "zerolinecolor": "white"
           },
           "yaxis": {
            "backgroundcolor": "#E5ECF6",
            "gridcolor": "white",
            "gridwidth": 2,
            "linecolor": "white",
            "showbackground": true,
            "ticks": "",
            "zerolinecolor": "white"
           },
           "zaxis": {
            "backgroundcolor": "#E5ECF6",
            "gridcolor": "white",
            "gridwidth": 2,
            "linecolor": "white",
            "showbackground": true,
            "ticks": "",
            "zerolinecolor": "white"
           }
          },
          "shapedefaults": {
           "line": {
            "color": "#2a3f5f"
           }
          },
          "ternary": {
           "aaxis": {
            "gridcolor": "white",
            "linecolor": "white",
            "ticks": ""
           },
           "baxis": {
            "gridcolor": "white",
            "linecolor": "white",
            "ticks": ""
           },
           "bgcolor": "#E5ECF6",
           "caxis": {
            "gridcolor": "white",
            "linecolor": "white",
            "ticks": ""
           }
          },
          "title": {
           "x": 0.05
          },
          "xaxis": {
           "automargin": true,
           "gridcolor": "white",
           "linecolor": "white",
           "ticks": "",
           "title": {
            "standoff": 15
           },
           "zerolinecolor": "white",
           "zerolinewidth": 2
          },
          "yaxis": {
           "automargin": true,
           "gridcolor": "white",
           "linecolor": "white",
           "ticks": "",
           "title": {
            "standoff": 15
           },
           "zerolinecolor": "white",
           "zerolinewidth": 2
          }
         }
        }
       }
      }
     },
     "metadata": {},
     "output_type": "display_data"
    }
   ],
   "source": [
    "combined = torch.cat([gt, partial], dim=0)  # combine the partial and generated point clouds\n",
    "combined_labels = torch.cat([\n",
    "    torch.ones(gt.shape[0]) * 0,  # label for generated points\n",
    "    torch.ones(partial.shape[0]) * 1  # label for ground truth points\n",
    "], dim=0)\n",
    "\n",
    "plot(combined.cpu().numpy(), combined_labels.cpu().numpy(), label_map={0: 'Ground Truth', 1: 'Partial Input'})"
   ]
  },
  {
   "cell_type": "code",
   "execution_count": 27,
   "id": "d0d7065b",
   "metadata": {},
   "outputs": [
    {
     "data": {
      "application/vnd.plotly.v1+json": {
       "config": {
        "plotlyServerURL": "https://plot.ly"
       },
       "data": [
        {
         "hovertemplate": "label=Partial<br>x=%{x}<br>y=%{y}<br>z=%{z}<extra></extra>",
         "legendgroup": "Partial",
         "marker": {
          "color": "#1f77b4",
          "size": 1.5,
          "symbol": "circle"
         },
         "mode": "markers",
         "name": "Partial",
         "scene": "scene",
         "showlegend": true,
         "type": "scatter3d",
         "x": {
          "bdata": "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",
          "dtype": "f8"
         },
         "y": {
          "bdata": "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",
          "dtype": "f8"
         },
         "z": {
          "bdata": "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",
          "dtype": "f8"
         }
        },
        {
         "hovertemplate": "label=Generated<br>x=%{x}<br>y=%{y}<br>z=%{z}<extra></extra>",
         "legendgroup": "Generated",
         "marker": {
          "color": "#fd3f75",
          "size": 1.5,
          "symbol": "circle"
         },
         "mode": "markers",
         "name": "Generated",
         "scene": "scene",
         "showlegend": true,
         "type": "scatter3d",
         "x": {
          "bdata": "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",
          "dtype": "f8"
         },
         "y": {
          "bdata": "MEkfPzyo0D8iKx1NWQDQP09Y5dCpWNA/2i/uuhEs0D8PkZ+sAp3QP2zdwGQ8r9A/bu6u7Zup0D8IVrschBfRP/NzP6nRI9E/oLg/AUal0D/NO2rd6yLRP6ZcdBqDK9A/KsOnAHmg0D+AtCETl7fQPwZPox8fOdA/Use9xU0S0D+t4TFQyJ7QPxgxlWmgedA/I1VPlDZw0D/cBUuM18DQP+pa5dOlbNA/mG7oDfqr0D+g+55iSL/PP3UDgI2tp9A/YJpp7dDN0D9qjsL8C5/QPwjNAIX9pdA/7Awm5Hgg0T89B/XZEBXQPwzVjE2XutA/MaGzdGAF0D8uoZvCGATQP7qMq9OaI9A/CF31nt5K0D/V1N5lp4HQP8a8MNS51s8/7IIV6E4h0D89wxikGJrQP2Zk2AGqY9A/6ZSgyuAU0D/EUCEj67TQP+CV5ytsvtA/tuFz9QYT0D+Q4ogRHcPQP5XZcB5DnNA/t93QdrsP0D9iur9jASXQP49rODOnHdA/s1tjIbq50D+2c85/l6rQP6vDSGqYuNA/fJGY/cHCzz+q7tW2T77QP3qwxqQkydA/Vi57X2O40D+/MQdCfpvQP8Wz+hxyItE/qJappBRO0T8cGsyD2YnPP/rZsA7oBNA/FHcfXEQv0T86GedYCSPQPyKSvmthHNE/sZlFjVhF0D/woVIj8L7QP8ZTtc36/M8/5uiRaMUG0D9QQec1XcbPPxxTpafuS88/VD09pMIm0D80Nri3QzTQP9bDffmoudA/Eub8ZI4k0D99eBpUMozQP25/gPtvqtA/tG65sGfgzz9EsUh/WDHQP1DYvQkDvNA/QvjR8ZZA0D+ouYn9VrXQP4L8QlMVqdA/PBDaKGpJ0D+9x5F72J3QP0pDoS8mVtA/Jg7qPPvC0D/O9l92rU/QPx7O9HG9KNE/5JFGSzly0D/2kdvrCr7QP7rKw8EC8M8/CqqttFbB0D8iffw7s8zPPygwEiwFftA/Xp3Y8wTNzz+sgfHKWaLQP6C6ZKGcwdA/wkToE+qG0D9yXaE1J6/QPzKihEOeW9E/ZKWfyo5Z0T+H2DaloSLQP0YuFL3+rtA/GrvtyY330D8Qvgn43NbPP2bhy1sPw9A/IwmpOWV20D+lZC4Upx/QP2TBOrk3dNA/3jHE5Me1zz+CnZ37/qLQP+4wf7s8tdA/jpkGfIRP0T8+fk+XQCTQP+sKDHTCq9A/EGumPHJHzz/CqfVrtATQP04/5KIiRdE/5J+TAkq9zz/4UvORQ+rQP0gWbBBWxdA/mq9dgx6k0D/cwC8X+1vQP5TjJW7Os9A/UtfOfpWZ0D9LeG8oJtLQPyZQ2j1fzM8/83Q/XSui0D+dTUhgN2zQP21EyKO2AtA/UxWnzuB40D8gGXUv+vfPPxIRYN1IqtA/Zb1kXUyk0D/etgp/YKDQP5CLrpEyOdE/Lqepddrbzz92aQbem0LRP7fUroPTKdA/rFXqeJ6c0D8BmQ6++MTQP06OOAB7rdA/fDwCTgyn0D/4NyhiILrQP1x/ZvqN+s8/kJgyqNKT0D9EzfiQy67QP5LA5gwLptA/zdDIcCqn0D8x517Hy23QP8rju9e6RNA/yOvFLAu00D/ypkODc8bPP77JCsouRdA/Kr6K8hsW0T9iMdtq7WbQP0tayYN3eNA/SIDjpJDzzj+fedJ60svQPxQKa+o49s8/4FNsNrEJ0D+qJ5B1MVvRP5EeaD/9xNA/G/kKlL+Y0D9ORfvfJbDQP/A3MwQHstA/1lnLqJWj0D9fhaxUnHjQP8iLz5Ewo9A/QCUhZ9Ww0D8aOujzj8XPP5BmRmuBptA/b+t/HzcS0D+AMfD/y7XPP+GhNoPittA/VmEYFQWs0D8OtkN7+sbQP8BrOZaHKNA/0JC4ld690D8FN5fkELnQP+IGHyTfwNA/AA0R3Yh60D9awW9rwVnQP67ekbGKz88/SPo6T+vF0D/n1bbtzMPQPwSFd1JZAtA/SirPf1ub0D/v93/fNL3QP8rk2XbkzM8/dR8f2zk20D+2udhbBknQP4RRdSAOzNA/pKPkIjQs0T+dEd27dCTQP8KRz4lNRtA/LECuXrax0D9J3IYf7Z/QP6rvLh4NT9A/qGMpYe+k0D+kzXzipDzQPyrLYoDyNdA/6LcK/kIf0D9FyeYuclPQP1Hev9wHZ9A/rKBPRMSm0D+INNU4M+nPP3a1DJOWptA/jNCsf/ke0D+lztHaE8LQPyOJsBufP9A/1wxN+26z0D966lYeQbrPP/4LciZWNNA/HofuvtWi0D8Ir7fWph7QP7axjwHewdA/Bk4BHVqY0D8STHVY4aDQPxiBeYrHWs8/Rh8IFGll0D9mKZfW4dXPP6gI+Ksid88/c6p3DgKu0D9Qs+0z58LPPxhf73Tuu9A/bktWIs0d0T9wr0JGyL3QP47QsN6+tM8/VKqCisOS0D/+1v4t6CLQP0yHDZGNs88/BNK/4x+10D+ZGD3/TqzQP0ZtCQgtmdA/BvVODqLJ0D96DMWE/rzQP2dO0kfGBtA/BOrh2OUB0D/Fnnc0ZsHQPzh4CpYg0NA/fajbE1p90D9ItLTv8RfQP0TBHkwxx88/E2N3UvPI0D9Hk0vze67QP4KY9Dxzx9A/GaA1LS2o0D+eaHXXm7PQP7U2/bz8xtA/nbOCByHB0D/HGldh2MnQP15IMg3Xj88/Ou1bnvM60D9UU0VU4KPQP7bXBym4htA/A5g3jIhX0D8+rRMgr9LPP7RS6EJ4ytA/hLJIU/DIzz9XD7DY+QnQP04Wjy8Nv9A/Q/VYQf6q0D9GoXyeWLzQPzIbwdbhGdA/I0sTDFDC0D/YniV9wZ3QP7x+LI+FOtA/pgcsf7ct0T/uJf1Zfq/QPxx9PjffwdA/YLXXYaGv0D/nEVuFI7nQPxpw0GKQyM8/9P6n7JWw0D8uIwrgH0LQP3Yklrqp488/eO2StswX0D/GWFcFnyXQPzZViLB2xNA/PgGsEqov0T8n3UtvvbXQP7lGgNAEwNA/yDOyYxMk0T+QQsFykjnRP4oxRXlqsNA/unjJ3MMJ0D8o5AroJ1rQP9wrg3W+tNA/R9g3v40V0D+WG0BNNm3QP7ip33jhq9A/wudsuIJc0T8SOPjuPsvQPwJJN/rXptA/1gRJTTnYzz9wzBEehB3QP/EtF+FLutA/Z2wyAblx0D/U/zvA8YHPP46Da2DS388/W1Zb/roK0D8nM4LWfQzQP3m6MIOZItE/6BD6XnIP0D/UKs36kLrQP04b9+2putA/w7e8UzUM0D+2DtIU+YrPP457PkeJtdA/y2fKgWAB0D+wZIg6UMrPPxGlTQG5btA/nFOtlJqm0D8SssYg2iLQP6s736dDxtA/WA4s8uE90D9CfS377LTQP2IUaGoHwNA/1SXY6Mef0D/YxhIKAQ/QP7DzIdmCPtA//LylM0Ff0D9yhJMnjDfQP2MkyK9CHtA/4nfN2Th60D+OrlGZKrDQP2aTt5o8o9A/5Kwb0TW20D8lB/q5fLrQPykW90N3iNA/1ER/FhSMzz9ss3VUfQvQP9hfvvDGqdA/mknblJbC0D8+vVJErXjQP8ssL1mfvdA/9ZNeGkgA0D8DMwgOSXrQPyQprA20n9A/SOm90uyS0D+i9edvMx/QP7ar9BxXwdA/Rk2CEiFv0D9kPKK5HeDPPziNkKKA+c8/Wk9rKPhA0D/pR1h4QxXQP9rYsyEWotA/q2R+j/q+0D+hbSxk2H7QP6j3sWunhM8/vLOXY/rF0D/45EiFAobQP1BepMyDRNA/uNTlMqi/zz9Eii2txMXPP2LhGN6xudA/prNS4YWk0D+sLscnbfzPP34azU6ZRtA/CrpLSDfLzz/+HyWbwH7QP+hDG0fSUNA/OMkn1MQg0D8kelJn/8nQPwiteLPSrNA/11KBIKAZ0D+pW1Z/6zvQP5LylcAbrNA/skulkBwc0D+YBk/WsEHQPwj0j6xOu9A/ibR7Na7J0D/sGKjbobbPPzTT+WBdH9A/aZkGoUus0D8LX1TDAenQP41dJvaKU9A/UNlDsg4o0T8OSFcfPqfQP7ZT5gpOKtE/XWY+2umk0D8w27zzO8DQP3BHRl+5qtA/Rp1cbjCTzz8FzobwOcHQPwOAb0BorNA/y0iqsoYY0T85x21NiaLQP2bolzb6nNA/kE1FxGb2zz/9p7V8XwfQPz/EqekpCNA/YZtZ4hiW0D+BeGqpVC7QP2QSgMi20tA/Oy2TaknF0D+wxdAOMXXPP0jinMJ/W9E/AD6XmOfH0D/xZwWFkCXRP+pJX1U3qdA/HbHrDKgo0D88e0mxUM3QP05W4rDALNE/y7ef5De50D+q9F/d28rPP1AAabyMudA/5PQYqEks0T9jC++0GEDQP5Rhf1b4nNA/XgBpFIiozz/+O4qR5ETRP0HVJ9hiztA//vbE+7rH0D/68pnzMT7RP2JIr9jUTtA/lAnKL0kP0T+wUIKcLEPQP0MrWpjeItE/DTB4AaMZ0T8KKlo0EU3QP2S1vzpyOs8/XlHBvO1Q0T9fuCNPPtDQP8RsWrTDt88/lsUijdSc0D+OLDoaTyPQPxC5gWGl8c8/GT6WUauh0D+oW5N/S83QP6XXaWr7rtA/Xl0SBxsk0T8kt41/YyjRP59keW32ptA/CbT+UHQo0D+4iIK8bhLQPziRKnBkqdA/zHQtk1od0D8KzzO5uKbQP1Dd1yc0INA/blB1tCHG0D92BaMcXvvPPzporFyQtNA/7o04TFHVzz+QELRY0SnQP0xy92SwLdE/VzhRDd9a0D/uAzio2bzPP4xhg1to4dA/Llqw1qy/0D8VLwOOjx/RP3MoFF+XmdA/7hzdj+k40D9MKP8bupjQP/amzChCt9A/tnaXi1y70D+aKY3LP0fQP2RQ3KBNqtA/oNy7Trm50D+O/4meSkLRP9S56rTFStE/lftIl9IR0D+hkfYxjLjQP0bWOpLqEtA/IuOdmUKz0D/qmgdP9ezQP0AanN4hv9A/DNylrFzBzz9QlbQPTR7QPwowyVM+VdE/E4BEijwP0D9sLfKaOanQPw5Um9FOsNA/fHfIF6ms0D9FN/s0q1LQP9Lgs6buW9A/IuGX2dD+zz/8yJ+oebvQP4uXOqUGttA/PE8uWWsi0D+Op8/ETr3QP3Rhb90BmdA/phQqb5uezz+iCZ1Jl0bQP4ppgGvgR9E/6xpatkoa0T+eC3g4fZ/QP7ASiXNbFNA/FZfD0B160D9aRbukk/jPP+rUUolq/M8/IEWQE2Ec0T88Xd4cWrfQP+bx06k6T9A/KdJcI6690D+fkaXaFyPQP8JXAha9vtA/jocqzItN0D/W0t9i86nQP0+CRwYooNA/mKE79YKv0D8g15v+nN7PP9NJgm3LHtE/jFyvpkiQzz/tZ5pJ9ADQPzLGSGVAydA/zscyCpYp0D+eA4LiIxnQP+BI3GIPptA/RHDfdEWu0D8i0YyMYj3QP/DkaxJUp9A/t3j8o/Kz0D81FgVwSx7RP0AW+CuYqtA/eqR7wy+Y0D9Eoq80L6/QPxKbN4BXGtA/TortOEui0D8Cy107UJ7QP2tWPJhSGNA/eEm6lw+00D9VAGc1DgjQP9ZorA53H9E/tr6RqQ3R0D9aQHuS587QP9C7MwzySdA/tuyqW6HT0D8AmXKGrrTQP7D5FM+ctNA/zE88mItR0D++BmFGCknQP0xLWAbn9s8/b3p6m7IZ0D917DDciSXRPzvNz4zjDtA/WVny042T0D+0XZHGA6zQP07D2BVcsdA/GJbDslhdzz/VCJ7bdabQPwZLtKbGss8/JFgYhY/Yzz9yIFIDfp3QP8/FZ+NOpdA/vMrDVLcl0T/1lqp915nQP0V3nUvftdA/oHzGy6G+0D8rtUoRwwLQP6BTh1FtuNA/TDxUiJvN0D8KzxYIE6nQP34LDAjcVNE/Hm7dHCGt0D+Nf1Ge927QP9DhlSNNO9A/IiU4oezL0D+ukx5vwp3QPwrtZ5s5A9A/fB4HQCG30D+0n0dLFbHQP+jEImddt9A/l9AvhtGs0D8iZTGww13RP1yL098RqNA/6prWe6pO0D9F9cRPLqfQP+o7nfwnsNA/CsY202U70D8YAELxfkLQP4wAlINbKs8/5Ld2DYa8zz+whuqqwZ/QP7S4MpGoUNE/ixqgy+sZ0T/jttA8PMnQPwxYEP/or9A/amM3F4r6zz8qc7z/ZBfQP7inNnAwrdA/uKjscL8F0D8NaGwoGsTQP0tH6EjeotA/0pwkRwZ80D9ECu5r5q7QPwS8x3BmVNE/vjHdFDfP0D8ioKI8fhjRP/k/PEK5oNA/+Yr5jASs0D+6f+jmi4nQP7ZDSfQbE9A/5Jf87GfUzz/wiO/fE7LQP0yzlLsay9A/NmeYpGbz0D+4QbcWMEPQP1C0w6hSWdE/0udKfmk/0T+gj3YjEabQPzJnl+AU0NA/KAgDO9MX0D8UGcqdwanQP+TPhHp0ys8/CE0n6M8n0T/asb6SybTQP0uuvcdY59A/6+YHJJgE0D8ssVwF5kXQPxEG57mgotA/nhuWNp0v0T9+lFjN5MfQP0Zw+mn9ltA/Rh5P5sC3zz+wbr3RbLDQP6K2lVRqp9A/bHGnznHczz9s27x2RxDQP9zhQuF5HNA/Ju5NSlha0D/PAunB3LfQPzvvnUln0tA/FMWKDofB0D+yZGJNCMHQP7aXBFeEqM8/8HL307kg0D8/JmNr1xvQPy0sKXZ2p9A/7cixkROu0D9QOZw+Y0nRP1X4g15cVNA/6M20wmHVzz+8+meYqqPQP7Nwo4XfHNE/hV2pYqFp0D9me3WOsrnQP6QHv6rbq9A/QDVHa//Yzz8zKaPzcO7QP0r7kfwSfdA/3lo2zfqp0D/nby8xqiDQP4w0Aeu4lNA/ts4CdTOc0D/2FXTeYqnQP8SgX4DRyc8/YvxDlqWm0D92oFlSB1nRP3fg/2BqHdA/1EM4RHdfzz/VcE6SgXnQPxT9o2VBntA/DEs1Xjiy0D/Afn6lcHLQP1Ko/sadBdA/NOT9IcdM0T8wv5bXNrDQP6ZPOsvIBNA/CXBqSk+10D+4iptsZfzPPxSQPJmgo9A//VL6hte40D+uN/I9N6bQPxM4ox/vC9A/l00DIGen0D9AbqzLxGXQP1t7xTJxQtA/JCUc6e3Ezz+CoFZAUhDQP6d7n19ZK9A/yvXoYQKn0D+q0XAN4czPPySkWItbTdE/hnik9Sq50D9EXQpcUlHQP+6+fkE5JdA/S1lhy76V0D+Laj49JGXQP0OrEx5IBNA/toZ3w3A00D9DZ3BxASLRP3zrSgFxtdA/vmzoHXu20D8AnzD4gojQPxN04HWDldA/WIcNQg+r0D9UExV/eErQP+JVZNsVutA/1LL2sjhc0D+sEQYzyKnQPwqdyerXBNA/g3kL0SUK0D8cZ+ZPcLLQP8bWOH9M8s8/pKaUQ3ikzz9YNUj+n7XQP9LRgMPAsdA/UUnueBoZ0D/u8T78VunPP5zXRmG5JdA/skSGGMIQ0D8Swq7f673QPzWWxupErdA/Au3Cff6r0D8+9q0tYRrQP4b/+wsBLdA/mI+k39U90D9VJ8wu6x/QPzLVHgpBWtE/arE6i5XVzz+EETa5nxHQP3iVuJajHdA/QjPoFmDB0D9ikVBtbknQP8yRY7trktA/JLxJdg020D8idqv9bLfQP+4DVR33KtA/RM9y+BGd0D9coKWw4r/QP2uuHq0LwNA/rkFqH9Cg0D89T5JfHZTQP5Ptcu7h0NA/uuyc+34h0D8T1AY6eLrQP9XJfrUXgNA/yElb7gfO0D+aSiFOQ6jQPx6IR5kCZ9A/0I5J0YnMzz/S3aPXikvQP0RKGhtw3s8/DLMyC/NK0T+IJwaI4h3QP05w9tp/y9A/RXBFUjP/0D9SwriiW7HQP2zq6kD2JNA/6O2YbuXMzz9irWzFB7rQP7gpBTKDo9A/reySiTKu0D8wGyQ88B/RP5JuYCpFqNA/pJd/k7MA0D9XJkMT2cLQP1AvOmmZq9A/qZbD75us0D+nfVks8RjRP5B/AiOYEtA/GFN7P0wh0D8zrMxGARbQP5aqTuVOY9A/2jzgavLMzz+x9vCuKivRPyrdOl/FwdA/+hQWCFsu0T+sW8LJo8fPP4FixzRUZdA/7E4lVqnF0D8apHsPBsDPPxxwE81vvdA/3rH2ADGk0D98EkR1/ibQP2K5KTsNttA//IcD9N+60D96HhLDBSDQP5rIE3+4rNA/tEenpz67zz+1IexU5iLRP0ZCvtRUutA/E+eoTm0c0D/wDVcOHyzQP4rH1/g+v9A/ygejkY240D9e3O9ePS/QPwZH544VStE/YNL11RDB0D8LXHTCEz7QP5gTpp9HoNA/ctkxBQ+50D8EwdQr0MHPP18JNkL0rtA/OGxMleiK0D8+em8hIq7QP8IResQ5Z9A/IfzWb4EP0D8I0el2LpzQPydzab7GxdA/GxAdqIcl0T9CNPneQ8zPP0qPhEA1k9A/QElQ2oiz0D+9NVmMA8HQP67Nxg20odA/GVPNw8sL0D/2vLM6GcXQP5mqbD2gftA/aE5L9P7Hzz/Ruz3zC6HQP/jg1MTJv9A/DKmgX1Na0D/IWVf8s+/PP7z7QiGAuc8/jOyLvOQz0D/Je6dg5bbQP8yoSsDF0dA/mrTyQD+kzz9E/UPLdTXPP/R5q5FJZdA/MoGhfl7G0D/wU2OtrpvQP7etjA7dD9A/QlQ+uAlB0D9ERRBI0qnQP5PoJCm1o9A/k1cSG/LC0D+zINu6JC/QP3rcQuiBGtA/liib3mdK0D+0BaW2FZ/QP+TZH0LDwtA/CXO7UGtr0D+UGHUzbt7QPyRSx4wQttA/KN1NDgOe0D8yRJaqYkbQPxHiSi+heNA/slfCO64T0D+KGQGvfr/PP7deFt//JtA/BkqTVCbFzz/vci+fHyHRP5waWGtNO9E/MIoAaNJdzz+HKLZDFL3QP/AR3ipRDdA/mtl40SID0D9jx9Tc75bQP/9nuwiHKdA/Oys2kfoc0D/a1Wwejz7RP/7cS3uQqtA/Pp7uAx060D98H4rVUkXQPxgU4X69KNA/8LlHVbqW0D+qY/dEHrbQPyiuicJJsNA/xptTgobD0D9OSc4QbB3QPz/10k6mH9A/ofGdiiqV0D9cvp8ZXO/PP7i9jF21JdA/hSskGH6d0D9yZQ9R06vQP0QE9xqZO9A/3F8zHzhG0D/OK/Y1tT/QP652tDmDwdA/ZvAZvy8O0D8krYdppL7QP59QklVACtA/fq4BknfD0D/KhfvUReHPP4Sqj+PvytA/H1DjXcKY0D/anvwn5wLQP4hrlZg2s9A/rj0dY3XIzz+HmtuSttDQPzDoML9I688/JRqqa2Mf0T9RLfI3RUXQP3ifErYGwdA/dz+vhEyw0D+uQUorurvQP8VoOsesJtE/ueR/bz2x0D+lB4Ej+UfQP7otez69kNA/VElpxgy10D/RYK+EYBfQP1A417xHes8/+qXWUUhA0D/a0ppdevXPP74LA7o2AdA/TvsDP+yyzz9dwZXpYzbQP60nbyjVStA/wmjbo9210D8cm6ssHz7QP8t50QGendA/hVZMg49s0D9WojIcBa7QPwZMO0eIoNA//lIUEYjK0D84ruMf1rDQPwBzQuWbL9E/7AUUOwSl0D8Mcl4dYb7QPzyPrr5Uys8/nAGVmG210D/KQx+b4snQP6r5hfssPNE/yBq2vJ0x0T8AmDGTPKPQP/aOXTYOodA/bsdb5IOk0D/AEQE3x3jPP3yAdg4EpdA/PgNyVJrAzz/YemrP0cLQPzrJ0RPym88/lr9z4Uyq0D/HKIZsQr7QP02gZZ7dHdA/9BYh+zjxzz/SpFJAOqPQP0rdcFBYF9A/eskelIVF0D/sj1C+ixrQP3NPKoh6f9A/Edk3Tywb0T/lOCOl5SPRP/9oAM0esdA/ClEaZnbG0D/iU5GGAdDPPwKZWcBPxtA/lXSlvyzT0D/VauHAI7PQP5meaw0eONA/WG1ccTDQzz9dPY0CbpnQP+hmyvVjzM8/EHU0h/I/0D9JJWK8WhjQP6o5Rp3NMNE/3QwT1Jim0D+VeTGxl7XQP/5JO0roN9E/nHHlfgo/0D9e5C+fKqHQP+q8nAzVntA/6KUQCmcs0T+SYA2t4xnQPyaB2/OfOtA/zKzB3rxJ0D+MelfHILHQPyimp1Qr4c8/kF+Wn2st0T8GueomgafQP20ozSiNtNA/veu/uk2P0D9n867X51DQP7f9GhyoU9A/mc9DzxS10D8z0ivkIlrQPwKu+jPIuNA/u/jNNRsU0D/Kj/YkZZbQP37K8ryz+M8/8CKZEreo0D9POZ4xGiTRP31KW2tvndA/SpnRTdl80D8axQnqp8vPP5wb/2iig88/DiZRFadJ0D+CBaPoLb3QPw4WIROnmNA/NNT1ihrI0D/m/qBHx6vQP3yZp9uXRdA/5CwvYhyk0D/HDtjgR73QP95IzZpssNA/0Kely3qo0D/iQ/8Du73QPybhWhUxa9A/fZmff6jI0D8j/r5p7xfQP2Xlf1toi9A/Q7tvf28P0D+YPPsK/TjQPzHj35VxEdA/cJ0RKoSY0D8hgv9TQazQP66ePEDBqtA/KqHx2xtF0D+EMU5D6JfQP/pnvVDcJ9A/6vXreaWm0D+fYAcRiozQPxNzqp6WHdE/m55NuE070D+GC4CPgc7PP3YMrdK2u9A/cSwPHwwc0D+BJ13XfdLQP2LnQRPaJNE/RFTBKiKU0D9qoThn9dLQP4QSmX6Wo9A/hi9sfk7Tzz/hczG0yqHQP0cvTDMxD9A/tCOjdQMC0D/yMO7uBzvQP3IJhrvLv88/3D+aIYDNzz/JqyC4GJ/QP7K4Ye3jItA/VML+MI9u0D8x074CygnQPwxhE050vdA/miw34GO+0D+cqocAaiLRP3I0QJ1cI9E/cBIlYuot0T9UWHg/o7LQPySAuzEPPtE/t2qVnrnm0D+z1Z2ZewTQP+KCqTAXq9A/nFKqX9S+0D+Iglb/pMXPP5LJGYWwx9A/mGJR/aIk0T8kC4u+9SPRP1+nih4P69A/4o17W5S30D/2xlOOOKjQP/6D4LmEYtA/xaZRzi6o0D/+xOi0RFbQPxEklxdMIdA/EH2VgaEc0T9+wyigKibRP/SHVJTmXdA/HH1RWW7zzz/RzMRynybRPzZRX7NrTNA/YVGFeawm0D9arXbZOCPQP6y4XNfrINE/PkyfgIg00T+qPsNqxD3QP1qfGBHpItA/5FRIMzWl0D/lXJ1S5h7RPxclPdSUltA/drzReiXozz9CDreENfrPP3/M1l6PJ9E/+ODOqzS7zz+AeeWs+qrQP4Xd233Bb9A/+s0Ga86c0D/uKO6dX7/PP5bM5Qznu88/ka0A5nm30D+NeqYkq6/QP9s+vZ7AINA/2tCAuG6t0D8Em8H/2qrQP57XEEQst9A/mKiEXCgF0D9EiPpeArzQP6BEeiUFE9E/eBTGXTys0D+lS/NDfizQPznpZ+vhWdA/m8KdVa1v0D/+XnvddnPQP4RPnJTLO9A/T+rLlXbI0D8QOmmk1qTQP0jm4+9SttA/Shj4EXzhzz8hfOwWzY/QPzBfD+FARNA/sziYhI2i0D+FsmnrSj3QP2IlD7rVQdA/SNGIJ7at0D+MoU/ws9/PP6N6zvRMotA/iyPZWYUc0T8Y4XlioafQP4QNQrupXNE/YfAD5VAd0D/4et6GcC/RP0gM+zrzOtA/uJ+FzfyOzz9YmpBEFanQPzfkY2S6CtA/uHXbp9Tyzz9uKYkNBvLPP8XLpSV/W9A/rQU8QPSt0D8rSaCzvjvQPxRStA6esNA/LwMaB4dX0D/Iw8A8+q3PP+c74v7/QNA/akvgSP7F0D8aK3FuzAzQP+hD3f4YoNA/EtQX01AE0D+GLfTtQ8TPP7JopxmStdA/30sCdjgK0D8s0CMue9PPP1ObgDSEF9A/36girYck0T8lJ2T6MnDQP4K3b4P+xNA/DPAkYfFq0D8Wk2Lx+EXRPzpk0aRMJdA/gLV52IOr0D/jT+1f+TTQPxnK3gr8JNE/dOaF+ce70D9NVHYPTnvQP55HEwF9U9A/2Mb3NFa6zz9xw2l8RrnQP0pHE3JT+c8/qPi1uV2zzz90kt2doI3QPyg2po+QxtA/U5AcZpKQ0D8lOc6VcAXQP7JFqwS/rtA/ybkV8nfb0D+HqummtgXQP9PYOzQ8GtA/ZqnsQ/Ip0D8krjAsjsrQP0SEb+PsZtA/fUU6At8V0T+rSIuLDrjQP98Lymi8HNE/DRggosAy0D8SPBrWP/PPP0ik9TFJJdA/sO33Iwu90D9K7rDw0aHQP+5krSubzs8/RSDGs8Bk0D+x8Ri9xsrQP8jial5apdA/8aB03hYl0D9GLyD45J3QP/Dbs1BaU9A/GyNL97hf0D/U0VCXBXrPP1qPHOVNE9A/WJUQZES+0D8aA2Ws73/QP+tkWsnCt9A/KUNipdp60D/D1MTXULzQP2zB7R2dx9A/7tbPxHul0D97A4gkEhPQP7AMd6fayc8/elaLxmui0D98BL3WUyPRP0q1IPGkRdA/9roCBeIh0D8ijAd4BbvQPxzNrl6ZxdA/2Ikt2ty20D8KwqKt4+DPP/fukSDVHtE/OPx8tTe70D86n8oYcKjQPxz5ZeeVxNA/VO8BG5qo0D/k8JzWBb3QP8RuXMa9rdA/vxRuM9630D/U10APVKrQP4Z1GXFIDNE/MMm6CtAf0T+dy0JmEazQP8DiubhlrNA/DdoTr2Nd0D82tqOCMkfQP1/YA2FlF9A/khuvnwWp0D+QJiKns0TQP7IWRdgsKtA/rBjT0L3lzz+IzYeA56fQP3Lbkvpnq9A/NC6CQyJP0D8o4NPn+EDQPx83SYxLu9A/TncaNZCm0D8O87ObjeXPP0942R/ECtA/oSxs02TP0D8cd1GxMKrQP1wKzBn+vtA/jovJZZbM0D/E1kOyjb3QPw+1Sd2UKdE/EJZ05QOd0D9gGgbK9J7QP1hM8slcq88/FKSqOEYh0D8kHWvBwTXRP5TAmaDdH9A/oMQn2f2v0D8KzdXO2aTQP4LNaspoUNA//o7RGHSA0D/mVnTH2M7PPwAFMhRHUs8/yXGEtM4Z0D80WLSqKjHRP7ivKsyfnNA/OmeJTI6/zz9KfFHQJNbQPxtPSCpkF9A/KMvD6xal0D9G+sD9QETQP0JATOfSptA/ITDFoN0E0D8mrTSbcVLRP2xXEE9cp9A/ExU0LrIa0T+a7zx216/QPxIswN81LtE/sDtU8QIt0D+QgKHo2MbPPxHaGv+b2tA/OL/YmPAf0D/Cbl3YejjQP97h4X21mtA/daz84reU0D/AeNhzo8TQP2p/b61hpM8/29cx0xAC0D+1MfbW6ZTQPzBYxszfr9A/gEkaCBGe0D8cSAhuOhrQPz7dtonbvM8//JI5Jjxq0T/9qqoK+inRP/DfPChNGNA/dN2dYfgU0D/YYYUWUq7QP9nhSgfNBNA/8mDwKhk30T8cHlqamr/QPwaYjak3wdA/2htDCB5A0T8cjmsh6LPQPwyz7kpuTtA/pW3MihkV0T87pl7BlbLQP2LSKLYz09A/uo+nMwHNzz+E+VTEyKTQPzDpu7o91tA/HqAgUhXJ0D+B/Br9CbzQP0z8EqL0vs8/qrIDllHO0D+oAGSI4KbQPx75yHmzQNA/JhEXu5Dezz+snpg3wtXQPx5n8L9qX9A/2GIFF/zE0D9JiR74vrnQPxppub6LpdA/aqMnUkuB0D8X4bzHiWTQP4b2nQJAJNE/OtKk4ow70D9qH1DATRzQP6MFBDxzIdA/UF3qwwWw0D9viy4B8MvQPzBnFaNnv9A/tnHZlyfzzz8C6JaC9hHQP7FtK42MlNA/TEY4zNW20D8jIdFbKKPQPxMy339b0tA/VVfdfrAW0D9AlYuhhrfQPx6OkFD+tNA/ADrz5V2z0D8ySU6mPM/PP3zJkuqJsNA/Fli/06dU0T+Mog3m0uXPP+joa+/7g9A/PP4+ZUUZ0D8Vq7QP2abQP2gHH1OId88/ds9/vqMv0D9Irrc8n77QP1g8fz63MtA/mkSeb3Wb0D/Oe7157VrRP/WaVspMrdA/M5JVbXzO0D9ejnVWfMvPPwM1B/w1JtE/3j4Rx0S9zz9B8PGUHjrQP+mlXKdbDtA/Aa3c7c7s0D9QUR5OZ8fQP19HH1I8qtA/4Ck2gZThzz/+RT2tG9zPP2Cad57d3tA/PuXDWaya0D95x43R4x7RP6CbNB34UM8/uIJYrX8T0D/0y6BzmLbQP1pRhubzz88/Ml9yzdU90D/ez4K9e7DQP/vXYzoHgtA/1rgEuoW20D+OHJLjPD/RPxryMOZGJ9A/DhsknobN0D9TWtPf3hDQPzw86hGGmdA/9C9Driyc0D9k2wx8sNLQP8Ju12EbsdA/QgZ1bQypzz+N6EzOWCnQPyCgX0PS0tA/mRRo1B6o0D9bRqYM3qTQP51FwzZqH9A/+Bx7F+GY0D/+C3ThFhjQP9yb26MvrdA/wUBJf7yv0D9KfEYoHsPPP4cvVY4ccdA/IOiY3Xqq0D90AiFgn9PPP3tEu8CtyNA/ANIOBQiU0D9wpvQqgkPQP4c/Eo1UCdA/ZAYFRkEizz9OTAHkHs3PP9MhGCnDjNA/6qQTj8NF0D9aGRCeZKDQP63pbKafU9A/baWdYLSG0D97IfvkYZzQP/2ZGMqFudA/+vOMYrOz0D+rKenPcR3RPzRZ7ywEs9A/90qCY70P0D+yQgug68jQPz/1Zzy+PdA/nnsK40Cczz9xd4gLqpXQP4JtbqraodA/HAJ9vvgQ0D96ZIa8R0LQP/ajHd8jr9A/GjpdCQ36zz+kE8+fYevPP+2yZZ/DmtA/DrCz4WE40D9S3T8aWtLQP6wQZAq0Lc8/qV4/fpkA0D/OSFITGMfPP34xoWa5J9A/Vq/RZ7PV0D8oroVnFrPQP61FQvsCGNA/Zow4tV+l0D9vYNszLO7QPwCi5f4sR88/uDp8lezRzz9qUxPOILbQP0dC24X6t9A/cObdxlgk0D+S3lYVJQDRPwj9wiFTuc8/TfEWwWkg0T/KMb5WscHQP3L2zhkq5s8/IwbG8cEY0T9rNVuWM1TQP8gk+Og1vtA/njoQt3yn0D+3fM1z77rQP74rqLpZXtE/mTZCYxOw0D+gMcdMKcLQP3IEzYuzJdA/5BxDWoR20D8Mt/XquY3QP+4heb64N9E/rEC2mwWq0D+G98gYTLHQP3htAdN/KNA/ZLF2ixu00D9Sw9uUbrjQP0aL9tPKNNA/tGH1G5yu0D/8kSIiFaPQP9N2hwo3T9A/jPA/F8TMzz+ACMngCFfQP+tkCbBKpNA/+KWFHq+T0D9gfaPal8/PP5RKJJQ6I9E/2p1kRDKw0D/8oPOJu7XQP/JEE/wyx9A/rWl/lbWk0D9vB25BbUnQPyRULbdjOdA/5RIAHp0C0D+xIMY2BdbQP66qU/Csi9A/Ao1TA7Ss0D81JXLRP7/QP7Jpm06/sNA/KqAADQ3p0D+b+zLi857QP79g1qm8ItE/K4As6KSw0D+kZKkJfKDQP4wtFAT1v9A/mlGFzAfdzz/aTkVgPLfQP/ZpreCJBtA/MZkystYZ0T/UcbsuLLDPP7Qj99geudA/BemB7tJW0D+Mb0w2oMPQP4aUvPKQLNE/dmYZBmga0D88JrVlL+/PPxwxaWHqHNA/0rWFCW6w0D9eHGDQv03RP4yonos8BNA/nD2mPJYj0T9i0xoMxQHQP4D8GyoVEdA/vFj4kj+40D+79BN3wqLQP1haMEaTO9A/BvfKTCSX0D+AIDtSNeTPP5LdsarNzc8//ZhHWht10D9OE9Js2JzQP5zXhRk5d88/2F2hPaBN0D8GgZWxjbrQP+UcmKAHIdA/sOetHNd10D82MKbsCavQP8lBQRKcn9A/9aWoqHkh0D8pV9rTeg3QP0gvNyE22s8/WtPNa1dw0D8uJms8euzPP176lw7ioNA/p9zamx0M0D/lfWgJDdPQP/5xQN3gnNA/ze2jBjw90D/Jq6BPTQvQP2QmDkhXJ9E/cC0CQTXLzz8eDfDuWu/QP0op2CHFwc8/w3mQvwYT0D8MmOIaXD7QP1P0Ggk9ctA/33E595ps0D8EP5IB0kTRP8+xCOrKltA/jvIEZebAzz/NBkgacSDRP4Q7yKh4sNA/JlkGpQ+00D9waKl6kAbPPzDB2VU+H9A/1K8PrnQu0T8S0q0yfLnQP4ezBrjoG9A/KmRL8Pi30D+8SrjJ2s/PP1hjjl8UH9E/ctmxEjae0D/axndnn0nRP4pH/4gcltA/FvyxsWqdzz+UUUN6J7rQPyocjq7MStA/AO6H2vfQ0D8WVrJVhSfRP5nAAAonndA/Lq58nZjL0D9vBWHDShzQP/BkSNZ2EdA/GnWfZGMi0D9eK8wYxKfQP1rM5DRjldA/drBm34S70D8op0h4aiTQP7cRHNbZhtA/lqHVwwnczz8QGF9bh0XQPy/+8QCAHNE/8LiGOKak0D8pKuQT+hHQP9hyV1pAs9A/GqBHbwlL0D9E8y4ZaTzRPxcSYXTyjNA/os6cdybD0D8dzzBgy7LQP+zVxzg6ptA/tfXx7Yuo0D9c0W/V5znQP9Cr+64vTdE/ohXMPPHbzz+e/oiy3MHPP34Fa1cYFtA/1GBPOV+r0D+lnJqaPqLQP2xr8kUzwdA/4Rb51OmH0D9a/7Xc5CXQP+iXsPTo09A/UIQbcYut0D90e4vFhx/RP5Da0HhCNdA/2ATMFArf0D9m6fqF/rXQPy4OADlbOtE/an0V5+zZzz//OeLXvyHRP64LGotyvs8/fk1zuEOx0D8t74NkGq7QP6YGNxZMIdE/XF/N+Yqq0D+vzo4htsTQPyi35fwux9A/yYOoAS2v0D8awO23hcfQP6gq9H3PrtA/W1hQWqlI0D/18sF8WsjQP/CxPThgHtA/MAK56DWb0D+9MzTsrKTQP6pAw1DKoNA/Gyxr3Jug0D+lPjoHwCPRP5SthN7nq9A/kFWg9Xm40D+wGBf4u0HQPwdGhmhkoNA/F9f1i+mw0D96rh/mAP/PP23fKb232tA/VpZmpmbF0D8C+CJnr67QP7bqmyK+wtA/0QEBZlO90D+2O1uTUjrQP1Ltn7jF7M8/+7Qz9Cor0D98cxC6maHQP0+LHfkWCNA/eqHqzbRb0D8MBhFZLr/QP91XcyubbNA/NLq1HIKZ0D9EfuethWTPP2wG3jDHHdE/LVLkQDWr0D/Btpj3R1/QPy4JU/ztqdA/Gh6ApdG20D/mUfx7NBnQP20mBgMCsNA/GdJlPh6g0D8GqHXPqCvQPx46far4rdA/QAUGSAWz0D+YIo9FnZ3QP8yTHUnazNA/ezLXI4UG0D/wIBEW36TQP5RxStL2xdA/6JcnGGut0D8P/eAFJCfQP6OD1PTaItA/9C9hCjBV0T8L+XtjWavQP5EuWhW/wNA/100Nx1uf0D+UMADa0qbQP0Qyt+HSNNA/Sny0mjhJ0D/yC2PtobvQP5q1E16KvtA/sM7upuVdzz8Tub7rLJrQP6TwUYJmptA/AdKlV5h70D/ohTMwr7vPP340uWF2q9A/9Ex3wQWw0D8C7JswuKfQPz7ybpgFzM8/hFmz0i9Azz+eIWcAu6fQP/bvpEyjs9A/OoUN51M40T/m2Bd8MWrQPyAapwBsJtA/NsF7cYyk0D+us9rfiHLQP5iOeyoTF9A/znRZ8VRG0D+M0mCkL7fQPyzPJg+pzM8/HjrgBnqV0D+IePIb1oLPP0xW8cMtZs8/JKJKtR8m0D8H4edCPMXQP8PtENryKdE/W1GrFPt90D/SVhFGeZXQP+iulHU1hs8/Ylh2wta00D+shWaGk8HPP5H1hdNfztA/FCyIGwPq0D85Z8nAOwPQP6CAtbh4y9A/crGz3Yo50D8kpW3MYUPRP36luR6TntA/60y4NGgR0T9b3rwKqQLQP/q30ymVONE/oC5YWckP0D/ML8J3bWnQP6SGjGQmxs8/DjgaDy+z0D8ikBdxtcLQPyy/JXKLnNA/kOybgM9D0D8un8eW3qnQP38mpdXRJtA/wmr5FFCq0D8YJW1qFAXQPzX98e76W9A/7TxTjcoa0D/6Z97QM6nPP0EGQEqPHtE/ln4WVmaq0D+Yw497qrvQP4PXOqEZxdA/8U0L+Zym0D9v7IplCKPQP7dGb2jvsNA/oUIOgrkS0D8bkZi9bL3QP+BI4l21vNA/ybPMG35M0D9u0SHUGsLQP/4l5HecKdA/eDxy6ow90D+39u5C+kPQP7Jdowo6sdA/Zp5fKbMm0T/8XYllZL7QP34YGMe7xNA/RAa9Zl2s0D+oK8qVIqTQP4wUFk96KNE/MEDwBny50D/AYE+jTarQP6rwVDcVQtA/QAs891r6zz/Vo1Eff+vQP0YTZPFSJNA/UHB3indN0D9q1t/+/r/QP8b+ZMkgy9A/uOsJTnB90D8c4w3IML7QP8YGH0wlFdA/OGUk+G830D+g5J2e6JrQP5wXKLzuU9A/IWyDp5ZB0D/CGQMxbyzRP6wIFPLaLdA/ONp+tEsZ0D8c2TO84PrPPzzPylg9q9A/8bEkIOqf0D+o5b/NzhPQP9EDpBnnJ9A/iFlJMVXAzz8EUM+nS8nPP1TgUmn9GtE/dBJVM8X6zz9XGt+/9pXQP0TDaS1bb88/sGe7rZ8Bzz8MvCwxsJnQP+fdKx0PHtE/8PacLCTazz/jFdvHD5bQPxh4rNTBv88/8Bxxa0TM0D/wz51CPw/QP2x5r56d/M8/4fRmHtRP0D9lt4bYY6rQP52uHqS3wtA/O5BO7X6v0D/XvaWKtKDQPwrM8uegH9E/fwnWUFqI0D8gy8WH3ZXQP8TI6SaCzM8/PIAmgbqG0D/q/kFfbSnQP989cZXPANA/1GROdBS/zz/y5hgDyW/QPxqoCxl+0NA/V1gbSgAL0D9QO3jGjCDQPxbELz3zq9A//Ca7VFTjzz/arQp0cqvQP/CDhWa20tA/ztKTufKx0D+CQajiGwPQP25dUFXSw9A/iwW7DeGj0D/tn/Ys9cjQP+AspOBSCtA/7bUxJJUn0D+QEaSMQqXQP2htUCoMONA/qk9ukxgj0T9MKDNKIsXPP+D/YV8CRNA/2o4O7IG30D/MM/R5a7fQPynTsyLvK9A/Dc364XSq0D9OKnS7a1DQP+7BYWkcvNA/BiYr0VTG0D86yRMvRbXQP0pInF9DP9E/2sES/2AS0D842IOc4HfQP7SDAAVIuM8/vI9AIxws0D94rsjmKhTPPxbKfe1CHdA/WCrI/SoW0D+cGMfUc8nPP8Lo5rZToNA/zDn65/lD0T+wC218bXLQP/fDlNhMq9A/fL8BeRTMzz/Xz4UDcyvRPxOIlP8tsNA/Atms54u20D+F68ZIUQnRP5yctASu/88/F8sBNQUj0T9QVB5WWTTQP2QfcesoptA/OidLWIfJzz/6rCZmJCTRP7D1SbscEdA/3tM0IOWk0D++7Yf4m6nQP8icA3Gz088/ihDzoIa50D/EP5Ddd53PP4TtnNvAxM8/36sImVsL0D8Iwbste9zPPyIzsXpvsNA/9Q+B1C0l0T8yTJgRVsTQP5SanS0zx88/YmvX8lcy0D/yt0E8GCbQP6ZpKnVh9s8/ERRqcwoi0D+a4ftAPr/PP7zuGXLRmM8/1uuhFbAs0D/KBflUnqjQP6IG//LIBdA/joOxmYd+0D/XqqDaFKTQP+axYd/Ot9A/ZFabpQR50D9H1zLqVBTQP3KbbVzTtdA/AE5BBF1/0D8antT/3b7QP8EVKQHboNA/6IzSuNHP0D/orpibE7DQP9Tsxhu0088/g4pKWK9N0D8EajhiMXTPP9DshP9vRdA/Fn8FAspl0D+jZuC1EsvQP8TVNxwDINA/ixjutLom0D+0CJeEGqXQP3IH79momc8/vlulBPWv0D+MrzyKOyLQP2xRXNxsr9A/fjklChP1zz/mwM9Zs5/QP2KSM1wHvNA/Ny4bOSeC0D8dYu3G+J7QP3FO0lF4utA/6AQ5zWLJ0D9iNEv9mnDQP5p60eH50NA/w8kyy5sO0D8KKfUVMULRP4zMJIkAqtA/v5DGWzuq0D881exDMyTRP2StrXGFp9A/ere4/Gq+zz9uBoSG9ErRP1wz8QmCs9A/PnV8y0ao0D/MB1w7VBPQPxfiFRipodA/dn8c/fv5zz8fhHsJ4yPRPyc8w1mnvNA/tLbcpxQd0D/+OYxmn8XQP/W3OM5rHtE/Ue+vzhC10D9z9kTvZqXQPyZnvVUYms8/er/YDLq70D/UCbEHRDvQPysct8qDvdA/+Z2LcVFz0D/u7Xk99NnPPxh8s5CI+s8/gKLt69ih0D/CBeQA+8jPP3K7KQRjUNA/bo7/pCzpzz/Ia+v+hoPPP/RSk416KdA/HltRnggv0D/LVrvzWsjQPy6CqGP2ztA/t6LPHci50D/XxxW25qDQP7+QDTtVpdA/x2pUE4iy0D/0067/QDrQPx3wFMCoKNA/jaYDcpSY0D+mPjhDciHQP0w0yuzmwM8/3ATUtPto0T8W74tHoFbQP4zoFsdAK9A/OeObH/Ws0D9Vv1Ba2CrRP5VIyFy8F9A/eJyFxgbOzz+vx+VFW8DQPy722MWdyc8/NWDvrb0k0T/m1PTUcLfQPwJIR18HXNE//mSqzhtC0D+em4RgdyXRP9qHnGWEy88/PI4aFZmv0D8+Pq8MZMzQP+SJILF3DdA/QqG07cW40D/xXq5jKqTQP8KSB+sd188/LE/ifYJa0T9U6z2QdarQPyKjh6HPLNA/Km42YxfJ0D8M2HBqj6/QP/K9zEY/ptA/jvegM1JH0D+4/bDOPsbQP/KuyaUF6M8/sVdH4dMl0T+Em4vtPTbQP63NXrQuINE/ikYJB8FC0D9iQ8Qc5UfQP9FJim9DHtA/Mpna+roh0T8MCwJE7H7PP1pFFMkqutA/ni17Gx8R0T8AqS6vzy/RP5CNiliFw9A/0hDBEXPO0D8sKk/XL8vPP2YiRj4kQ9A/E4rVHOy40D+uwMRHlaTPPwBERRAxqdA/KdcX0v6r0D9AnW/rny/RP+jeeFVDyc8/VRNOmWom0T+NlXQ8mhjQP5NMGZIBbdA/hBccT5O00D/KH9adfrXQP+gmMm5GNdA/WNc/BsIz0T+AIML/c6DQP07cr688KdE/xq8Tk71O0T8VPzUUh+7QP95kuw/nqNA//Hm4/XtO0T9j68hKWtDQP/oZ9HYSP9A/TzrJRyax0D+G0VfjaOXPP+ScaAY4zc8/oB0EOdgz0T/jIKQI6JbQP1AE/XDbZNA/hZj3tFIS0D8Wimtgw27RP94Chw+EvtA/GFtqE32+0D80nO7k+0rQPy33essDjtA/WF3wozvQzz/S1wcZPbfQP/7Tyr0joNA/8oylgTWo0D8/2GZl2RvRP7AgtGK7vtA/Gxt6EMy+0D9ENM7QHEDQP97X59CTs88/XgxxcZbbzz9CunXGu6fQP7wTiB+qu9A/UnQFLWSwzz/ki0fxQEPQP7QB4+fetdA/VrMIKbk70D8G7Iju3yXQPxOZiSYxj9A/wB//Asg10D877OjpVOnQP1KY8HN0HdA/3eXepaY/0D9HefuiIxLQP3zGENpZltA/tM3SPnW90D8QVUZMWHzPPyKuQR6X0M8/J/Ddjdeb0D8WtZLnOcrPP3ZGjjEjHtE/kJcQBnmZ0D+dIQNw+67QP+rONRKYx88/7DDjg/Kk0D/TndgFSq/QP74SdC0wodA/lshzr2tO0D9IBwTkW7XQPx6jBG8NvtA/vsGZwxXszz/qRgFBDLDQP3KvIm0Ao9A/9xntZNZD0D+211yZsyDQP06qLPl7EtA/FKd8wB2y0D8BZmF8XmrQPw==",
          "dtype": "f8"
         },
         "z": {
          "bdata": "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",
          "dtype": "f8"
         }
        }
       ],
       "layout": {
        "legend": {
         "title": {
          "text": "label"
         },
         "tracegroupgap": 0
        },
        "margin": {
         "t": 60
        },
        "scene": {
         "domain": {
          "x": [
           0,
           1
          ],
          "y": [
           0,
           1
          ]
         },
         "xaxis": {
          "title": {
           "text": "x"
          }
         },
         "yaxis": {
          "title": {
           "text": "y"
          }
         },
         "zaxis": {
          "title": {
           "text": "z"
          }
         }
        },
        "template": {
         "data": {
          "bar": [
           {
            "error_x": {
             "color": "#2a3f5f"
            },
            "error_y": {
             "color": "#2a3f5f"
            },
            "marker": {
             "line": {
              "color": "#E5ECF6",
              "width": 0.5
             },
             "pattern": {
              "fillmode": "overlay",
              "size": 10,
              "solidity": 0.2
             }
            },
            "type": "bar"
           }
          ],
          "barpolar": [
           {
            "marker": {
             "line": {
              "color": "#E5ECF6",
              "width": 0.5
             },
             "pattern": {
              "fillmode": "overlay",
              "size": 10,
              "solidity": 0.2
             }
            },
            "type": "barpolar"
           }
          ],
          "carpet": [
           {
            "aaxis": {
             "endlinecolor": "#2a3f5f",
             "gridcolor": "white",
             "linecolor": "white",
             "minorgridcolor": "white",
             "startlinecolor": "#2a3f5f"
            },
            "baxis": {
             "endlinecolor": "#2a3f5f",
             "gridcolor": "white",
             "linecolor": "white",
             "minorgridcolor": "white",
             "startlinecolor": "#2a3f5f"
            },
            "type": "carpet"
           }
          ],
          "choropleth": [
           {
            "colorbar": {
             "outlinewidth": 0,
             "ticks": ""
            },
            "type": "choropleth"
           }
          ],
          "contour": [
           {
            "colorbar": {
             "outlinewidth": 0,
             "ticks": ""
            },
            "colorscale": [
             [
              0,
              "#0d0887"
             ],
             [
              0.1111111111111111,
              "#46039f"
             ],
             [
              0.2222222222222222,
              "#7201a8"
             ],
             [
              0.3333333333333333,
              "#9c179e"
             ],
             [
              0.4444444444444444,
              "#bd3786"
             ],
             [
              0.5555555555555556,
              "#d8576b"
             ],
             [
              0.6666666666666666,
              "#ed7953"
             ],
             [
              0.7777777777777778,
              "#fb9f3a"
             ],
             [
              0.8888888888888888,
              "#fdca26"
             ],
             [
              1,
              "#f0f921"
             ]
            ],
            "type": "contour"
           }
          ],
          "contourcarpet": [
           {
            "colorbar": {
             "outlinewidth": 0,
             "ticks": ""
            },
            "type": "contourcarpet"
           }
          ],
          "heatmap": [
           {
            "colorbar": {
             "outlinewidth": 0,
             "ticks": ""
            },
            "colorscale": [
             [
              0,
              "#0d0887"
             ],
             [
              0.1111111111111111,
              "#46039f"
             ],
             [
              0.2222222222222222,
              "#7201a8"
             ],
             [
              0.3333333333333333,
              "#9c179e"
             ],
             [
              0.4444444444444444,
              "#bd3786"
             ],
             [
              0.5555555555555556,
              "#d8576b"
             ],
             [
              0.6666666666666666,
              "#ed7953"
             ],
             [
              0.7777777777777778,
              "#fb9f3a"
             ],
             [
              0.8888888888888888,
              "#fdca26"
             ],
             [
              1,
              "#f0f921"
             ]
            ],
            "type": "heatmap"
           }
          ],
          "histogram": [
           {
            "marker": {
             "pattern": {
              "fillmode": "overlay",
              "size": 10,
              "solidity": 0.2
             }
            },
            "type": "histogram"
           }
          ],
          "histogram2d": [
           {
            "colorbar": {
             "outlinewidth": 0,
             "ticks": ""
            },
            "colorscale": [
             [
              0,
              "#0d0887"
             ],
             [
              0.1111111111111111,
              "#46039f"
             ],
             [
              0.2222222222222222,
              "#7201a8"
             ],
             [
              0.3333333333333333,
              "#9c179e"
             ],
             [
              0.4444444444444444,
              "#bd3786"
             ],
             [
              0.5555555555555556,
              "#d8576b"
             ],
             [
              0.6666666666666666,
              "#ed7953"
             ],
             [
              0.7777777777777778,
              "#fb9f3a"
             ],
             [
              0.8888888888888888,
              "#fdca26"
             ],
             [
              1,
              "#f0f921"
             ]
            ],
            "type": "histogram2d"
           }
          ],
          "histogram2dcontour": [
           {
            "colorbar": {
             "outlinewidth": 0,
             "ticks": ""
            },
            "colorscale": [
             [
              0,
              "#0d0887"
             ],
             [
              0.1111111111111111,
              "#46039f"
             ],
             [
              0.2222222222222222,
              "#7201a8"
             ],
             [
              0.3333333333333333,
              "#9c179e"
             ],
             [
              0.4444444444444444,
              "#bd3786"
             ],
             [
              0.5555555555555556,
              "#d8576b"
             ],
             [
              0.6666666666666666,
              "#ed7953"
             ],
             [
              0.7777777777777778,
              "#fb9f3a"
             ],
             [
              0.8888888888888888,
              "#fdca26"
             ],
             [
              1,
              "#f0f921"
             ]
            ],
            "type": "histogram2dcontour"
           }
          ],
          "mesh3d": [
           {
            "colorbar": {
             "outlinewidth": 0,
             "ticks": ""
            },
            "type": "mesh3d"
           }
          ],
          "parcoords": [
           {
            "line": {
             "colorbar": {
              "outlinewidth": 0,
              "ticks": ""
             }
            },
            "type": "parcoords"
           }
          ],
          "pie": [
           {
            "automargin": true,
            "type": "pie"
           }
          ],
          "scatter": [
           {
            "fillpattern": {
             "fillmode": "overlay",
             "size": 10,
             "solidity": 0.2
            },
            "type": "scatter"
           }
          ],
          "scatter3d": [
           {
            "line": {
             "colorbar": {
              "outlinewidth": 0,
              "ticks": ""
             }
            },
            "marker": {
             "colorbar": {
              "outlinewidth": 0,
              "ticks": ""
             }
            },
            "type": "scatter3d"
           }
          ],
          "scattercarpet": [
           {
            "marker": {
             "colorbar": {
              "outlinewidth": 0,
              "ticks": ""
             }
            },
            "type": "scattercarpet"
           }
          ],
          "scattergeo": [
           {
            "marker": {
             "colorbar": {
              "outlinewidth": 0,
              "ticks": ""
             }
            },
            "type": "scattergeo"
           }
          ],
          "scattergl": [
           {
            "marker": {
             "colorbar": {
              "outlinewidth": 0,
              "ticks": ""
             }
            },
            "type": "scattergl"
           }
          ],
          "scattermap": [
           {
            "marker": {
             "colorbar": {
              "outlinewidth": 0,
              "ticks": ""
             }
            },
            "type": "scattermap"
           }
          ],
          "scattermapbox": [
           {
            "marker": {
             "colorbar": {
              "outlinewidth": 0,
              "ticks": ""
             }
            },
            "type": "scattermapbox"
           }
          ],
          "scatterpolar": [
           {
            "marker": {
             "colorbar": {
              "outlinewidth": 0,
              "ticks": ""
             }
            },
            "type": "scatterpolar"
           }
          ],
          "scatterpolargl": [
           {
            "marker": {
             "colorbar": {
              "outlinewidth": 0,
              "ticks": ""
             }
            },
            "type": "scatterpolargl"
           }
          ],
          "scatterternary": [
           {
            "marker": {
             "colorbar": {
              "outlinewidth": 0,
              "ticks": ""
             }
            },
            "type": "scatterternary"
           }
          ],
          "surface": [
           {
            "colorbar": {
             "outlinewidth": 0,
             "ticks": ""
            },
            "colorscale": [
             [
              0,
              "#0d0887"
             ],
             [
              0.1111111111111111,
              "#46039f"
             ],
             [
              0.2222222222222222,
              "#7201a8"
             ],
             [
              0.3333333333333333,
              "#9c179e"
             ],
             [
              0.4444444444444444,
              "#bd3786"
             ],
             [
              0.5555555555555556,
              "#d8576b"
             ],
             [
              0.6666666666666666,
              "#ed7953"
             ],
             [
              0.7777777777777778,
              "#fb9f3a"
             ],
             [
              0.8888888888888888,
              "#fdca26"
             ],
             [
              1,
              "#f0f921"
             ]
            ],
            "type": "surface"
           }
          ],
          "table": [
           {
            "cells": {
             "fill": {
              "color": "#EBF0F8"
             },
             "line": {
              "color": "white"
             }
            },
            "header": {
             "fill": {
              "color": "#C8D4E3"
             },
             "line": {
              "color": "white"
             }
            },
            "type": "table"
           }
          ]
         },
         "layout": {
          "annotationdefaults": {
           "arrowcolor": "#2a3f5f",
           "arrowhead": 0,
           "arrowwidth": 1
          },
          "autotypenumbers": "strict",
          "coloraxis": {
           "colorbar": {
            "outlinewidth": 0,
            "ticks": ""
           }
          },
          "colorscale": {
           "diverging": [
            [
             0,
             "#8e0152"
            ],
            [
             0.1,
             "#c51b7d"
            ],
            [
             0.2,
             "#de77ae"
            ],
            [
             0.3,
             "#f1b6da"
            ],
            [
             0.4,
             "#fde0ef"
            ],
            [
             0.5,
             "#f7f7f7"
            ],
            [
             0.6,
             "#e6f5d0"
            ],
            [
             0.7,
             "#b8e186"
            ],
            [
             0.8,
             "#7fbc41"
            ],
            [
             0.9,
             "#4d9221"
            ],
            [
             1,
             "#276419"
            ]
           ],
           "sequential": [
            [
             0,
             "#0d0887"
            ],
            [
             0.1111111111111111,
             "#46039f"
            ],
            [
             0.2222222222222222,
             "#7201a8"
            ],
            [
             0.3333333333333333,
             "#9c179e"
            ],
            [
             0.4444444444444444,
             "#bd3786"
            ],
            [
             0.5555555555555556,
             "#d8576b"
            ],
            [
             0.6666666666666666,
             "#ed7953"
            ],
            [
             0.7777777777777778,
             "#fb9f3a"
            ],
            [
             0.8888888888888888,
             "#fdca26"
            ],
            [
             1,
             "#f0f921"
            ]
           ],
           "sequentialminus": [
            [
             0,
             "#0d0887"
            ],
            [
             0.1111111111111111,
             "#46039f"
            ],
            [
             0.2222222222222222,
             "#7201a8"
            ],
            [
             0.3333333333333333,
             "#9c179e"
            ],
            [
             0.4444444444444444,
             "#bd3786"
            ],
            [
             0.5555555555555556,
             "#d8576b"
            ],
            [
             0.6666666666666666,
             "#ed7953"
            ],
            [
             0.7777777777777778,
             "#fb9f3a"
            ],
            [
             0.8888888888888888,
             "#fdca26"
            ],
            [
             1,
             "#f0f921"
            ]
           ]
          },
          "colorway": [
           "#636efa",
           "#EF553B",
           "#00cc96",
           "#ab63fa",
           "#FFA15A",
           "#19d3f3",
           "#FF6692",
           "#B6E880",
           "#FF97FF",
           "#FECB52"
          ],
          "font": {
           "color": "#2a3f5f"
          },
          "geo": {
           "bgcolor": "white",
           "lakecolor": "white",
           "landcolor": "#E5ECF6",
           "showlakes": true,
           "showland": true,
           "subunitcolor": "white"
          },
          "hoverlabel": {
           "align": "left"
          },
          "hovermode": "closest",
          "mapbox": {
           "style": "light"
          },
          "paper_bgcolor": "white",
          "plot_bgcolor": "#E5ECF6",
          "polar": {
           "angularaxis": {
            "gridcolor": "white",
            "linecolor": "white",
            "ticks": ""
           },
           "bgcolor": "#E5ECF6",
           "radialaxis": {
            "gridcolor": "white",
            "linecolor": "white",
            "ticks": ""
           }
          },
          "scene": {
           "xaxis": {
            "backgroundcolor": "#E5ECF6",
            "gridcolor": "white",
            "gridwidth": 2,
            "linecolor": "white",
            "showbackground": true,
            "ticks": "",
            "zerolinecolor": "white"
           },
           "yaxis": {
            "backgroundcolor": "#E5ECF6",
            "gridcolor": "white",
            "gridwidth": 2,
            "linecolor": "white",
            "showbackground": true,
            "ticks": "",
            "zerolinecolor": "white"
           },
           "zaxis": {
            "backgroundcolor": "#E5ECF6",
            "gridcolor": "white",
            "gridwidth": 2,
            "linecolor": "white",
            "showbackground": true,
            "ticks": "",
            "zerolinecolor": "white"
           }
          },
          "shapedefaults": {
           "line": {
            "color": "#2a3f5f"
           }
          },
          "ternary": {
           "aaxis": {
            "gridcolor": "white",
            "linecolor": "white",
            "ticks": ""
           },
           "baxis": {
            "gridcolor": "white",
            "linecolor": "white",
            "ticks": ""
           },
           "bgcolor": "#E5ECF6",
           "caxis": {
            "gridcolor": "white",
            "linecolor": "white",
            "ticks": ""
           }
          },
          "title": {
           "x": 0.05
          },
          "xaxis": {
           "automargin": true,
           "gridcolor": "white",
           "linecolor": "white",
           "ticks": "",
           "title": {
            "standoff": 15
           },
           "zerolinecolor": "white",
           "zerolinewidth": 2
          },
          "yaxis": {
           "automargin": true,
           "gridcolor": "white",
           "linecolor": "white",
           "ticks": "",
           "title": {
            "standoff": 15
           },
           "zerolinecolor": "white",
           "zerolinewidth": 2
          }
         }
        }
       }
      }
     },
     "metadata": {},
     "output_type": "display_data"
    }
   ],
   "source": [
    "combined = torch.cat([partial, out], dim=0)  # combine the partial and generated point clouds\n",
    "combined_labels = torch.cat([\n",
    "    torch.ones(partial.shape[0]) * 0,  # label for partial points\n",
    "    torch.ones(out.shape[0]) * 1  # label for generated points\n",
    "], dim=0)\n",
    "\n",
    "plot(combined.cpu().numpy(), combined_labels.cpu().numpy(), label_map={0: 'Partial', 1: 'Generated'})"
   ]
  },
  {
   "cell_type": "code",
   "execution_count": 14,
   "id": "dc148c17",
   "metadata": {},
   "outputs": [
    {
     "name": "stderr",
     "output_type": "stream",
     "text": [
      "100%|██████████| 10/10 [00:29<00:00,  2.91s/it]\n"
     ]
    }
   ],
   "source": [
    "import os\n",
    "from tqdm import tqdm\n",
    "\n",
    "pth = \"/nrs/turaga/jakob/autoproof_data/flywire_cave_post/matrix/{}\".format(idx)\n",
    "\n",
    "if not os.path.exists(pth):\n",
    "    os.makedirs(pth)\n",
    "\n",
    "for i in tqdm(range(samples.shape[0])):\n",
    "    out1 = samples[i, ...].squeeze()  # get the first sample\n",
    "    c1 = torch.cat([out1, gt], dim=0)  # combine the first generated and ground truth point clouds\n",
    "\n",
    "    labels = torch.cat([\n",
    "        torch.ones(out1.shape[0]) * 0,  # label for generated points\n",
    "        torch.ones(gt.shape[0]) * 1  # label for ground truth points\n",
    "    ], dim=0)\n",
    "\n",
    "    fig1 = plot(c1.cpu().numpy(), labels.cpu().numpy(), label_map={0: 'Generated', 1: 'Ground Truth'})\n",
    "    pth1 = os.path.join(pth, '{}.png'.format(i))\n",
    "    fig1.write_image(pth1)\n"
   ]
  }
 ],
 "metadata": {
  "kernelspec": {
   "display_name": "gecco",
   "language": "python",
   "name": "python3"
  },
  "language_info": {
   "codemirror_mode": {
    "name": "ipython",
    "version": 3
   },
   "file_extension": ".py",
   "mimetype": "text/x-python",
   "name": "python",
   "nbconvert_exporter": "python",
   "pygments_lexer": "ipython3",
   "version": "3.10.18"
  }
 },
 "nbformat": 4,
 "nbformat_minor": 5
}
