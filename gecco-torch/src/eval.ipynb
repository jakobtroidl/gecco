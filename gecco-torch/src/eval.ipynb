{
 "cells": [
  {
   "cell_type": "code",
   "execution_count": 58,
   "id": "4d10a8a0",
   "metadata": {},
   "outputs": [],
   "source": [
    "import torch\n",
    "import gecco_torch\n",
    "from gecco_torch.scatter import plot, combine_plots\n",
    "from gecco_torch.data.neurons import TorchNeuronNet\n",
    "from gecco_torch.utils import apply_transform"
   ]
  },
  {
   "cell_type": "code",
   "execution_count": 59,
   "id": "a2fd5e99",
   "metadata": {},
   "outputs": [],
   "source": [
    "config_root = '/groups/turaga/home/troidlj/gecco/gecco-torch/example_configs'\n",
    "config = gecco_torch.load_config(f'{config_root}/neuron_conditional.py') # load the model definition\n",
    "model = config.model\n",
    "state_dict = torch.load(f'{config_root}/lightning_logs/version_38/arxiv/epoch=9-step=50000.ckpt', map_location='cuda')\n",
    "model.load_state_dict(state_dict['ema_state_dict'])\n",
    "model = model.eval()"
   ]
  },
  {
   "cell_type": "code",
   "execution_count": 60,
   "id": "73eed606",
   "metadata": {},
   "outputs": [
    {
     "name": "stdout",
     "output_type": "stream",
     "text": [
      "[4, 4, 40]\n"
     ]
    }
   ],
   "source": [
    "root = \"/nrs/turaga/jakob/autoproof_data/flywire_cave_post/cache_t5\"\n",
    "split = \"train\"\n",
    "n_points = 2048\n",
    "data = TorchNeuronNet(root, split, n_points)"
   ]
  },
  {
   "cell_type": "code",
   "execution_count": 61,
   "id": "7c4a0642",
   "metadata": {},
   "outputs": [],
   "source": [
    "idx = 111\n",
    "partial = data[idx].partial.unsqueeze(0)  # get a partial point cloud for conditioning\n",
    "points = data[idx].points.unsqueeze(0)  # get the full point cloud for comparison\n",
    "T = data[idx].T\n",
    "T_i = data[idx].T_i"
   ]
  },
  {
   "cell_type": "code",
   "execution_count": 62,
   "id": "27576a50",
   "metadata": {},
   "outputs": [
    {
     "name": "stdout",
     "output_type": "stream",
     "text": [
      "tensor(4.0005)\n"
     ]
    }
   ],
   "source": [
    "print (torch.sum(T_i @ T))"
   ]
  },
  {
   "cell_type": "code",
   "execution_count": 63,
   "id": "e8418916",
   "metadata": {},
   "outputs": [
    {
     "data": {
      "application/vnd.jupyter.widget-view+json": {
       "model_id": "45d3a0a47acf4f369c1b9a938b843aa6",
       "version_major": 2,
       "version_minor": 0
      },
      "text/plain": [
       "  0%|          | 0/64 [00:00<?, ?step/s]"
      ]
     },
     "metadata": {},
     "output_type": "display_data"
    }
   ],
   "source": [
    "samples = model.sample_stochastic(\n",
    "    (2, 2048, 3), # one example with 2048 3-dimensional points\n",
    "    context=partial, # assuming an conditional model\n",
    "    with_pbar=True, # shows a tqdm progress bar for sampling\n",
    ")"
   ]
  },
  {
   "cell_type": "code",
   "execution_count": 64,
   "id": "067a69bd",
   "metadata": {},
   "outputs": [],
   "source": [
    "out = samples[0, ...].squeeze()  # get the first sample\n",
    "partial = partial.squeeze()  # get the partial point cloud\n",
    "gt = points.squeeze()  # get the ground truth point cloud"
   ]
  },
  {
   "cell_type": "code",
   "execution_count": 65,
   "id": "125875d2",
   "metadata": {},
   "outputs": [
    {
     "data": {
      "application/vnd.plotly.v1+json": {
       "config": {
        "plotlyServerURL": "https://plot.ly"
       },
       "data": [
        {
         "hovertemplate": "label=Ground Truth<br>x=%{x}<br>y=%{y}<br>z=%{z}<extra></extra>",
         "legendgroup": "Ground Truth",
         "marker": {
          "color": "#1f77b4",
          "size": 1.5,
          "symbol": "circle"
         },
         "mode": "markers",
         "name": "Ground Truth",
         "scene": "scene",
         "showlegend": true,
         "type": "scatter3d",
         "x": {
          "bdata": "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",
          "dtype": "f4"
         },
         "y": {
          "bdata": "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",
          "dtype": "f4"
         },
         "z": {
          "bdata": "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",
          "dtype": "f4"
         }
        },
        {
         "hovertemplate": "label=Partial Input<br>x=%{x}<br>y=%{y}<br>z=%{z}<extra></extra>",
         "legendgroup": "Partial Input",
         "marker": {
          "color": "#ff7f0e",
          "size": 1.5,
          "symbol": "circle"
         },
         "mode": "markers",
         "name": "Partial Input",
         "scene": "scene",
         "showlegend": true,
         "type": "scatter3d",
         "x": {
          "bdata": "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",
          "dtype": "f4"
         },
         "y": {
          "bdata": "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",
          "dtype": "f4"
         },
         "z": {
          "bdata": "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",
          "dtype": "f4"
         }
        }
       ],
       "layout": {
        "legend": {
         "title": {
          "text": "label"
         },
         "tracegroupgap": 0
        },
        "margin": {
         "t": 60
        },
        "scene": {
         "domain": {
          "x": [
           0,
           1
          ],
          "y": [
           0,
           1
          ]
         },
         "xaxis": {
          "title": {
           "text": "x"
          }
         },
         "yaxis": {
          "title": {
           "text": "y"
          }
         },
         "zaxis": {
          "title": {
           "text": "z"
          }
         }
        },
        "template": {
         "data": {
          "bar": [
           {
            "error_x": {
             "color": "#2a3f5f"
            },
            "error_y": {
             "color": "#2a3f5f"
            },
            "marker": {
             "line": {
              "color": "#E5ECF6",
              "width": 0.5
             },
             "pattern": {
              "fillmode": "overlay",
              "size": 10,
              "solidity": 0.2
             }
            },
            "type": "bar"
           }
          ],
          "barpolar": [
           {
            "marker": {
             "line": {
              "color": "#E5ECF6",
              "width": 0.5
             },
             "pattern": {
              "fillmode": "overlay",
              "size": 10,
              "solidity": 0.2
             }
            },
            "type": "barpolar"
           }
          ],
          "carpet": [
           {
            "aaxis": {
             "endlinecolor": "#2a3f5f",
             "gridcolor": "white",
             "linecolor": "white",
             "minorgridcolor": "white",
             "startlinecolor": "#2a3f5f"
            },
            "baxis": {
             "endlinecolor": "#2a3f5f",
             "gridcolor": "white",
             "linecolor": "white",
             "minorgridcolor": "white",
             "startlinecolor": "#2a3f5f"
            },
            "type": "carpet"
           }
          ],
          "choropleth": [
           {
            "colorbar": {
             "outlinewidth": 0,
             "ticks": ""
            },
            "type": "choropleth"
           }
          ],
          "contour": [
           {
            "colorbar": {
             "outlinewidth": 0,
             "ticks": ""
            },
            "colorscale": [
             [
              0,
              "#0d0887"
             ],
             [
              0.1111111111111111,
              "#46039f"
             ],
             [
              0.2222222222222222,
              "#7201a8"
             ],
             [
              0.3333333333333333,
              "#9c179e"
             ],
             [
              0.4444444444444444,
              "#bd3786"
             ],
             [
              0.5555555555555556,
              "#d8576b"
             ],
             [
              0.6666666666666666,
              "#ed7953"
             ],
             [
              0.7777777777777778,
              "#fb9f3a"
             ],
             [
              0.8888888888888888,
              "#fdca26"
             ],
             [
              1,
              "#f0f921"
             ]
            ],
            "type": "contour"
           }
          ],
          "contourcarpet": [
           {
            "colorbar": {
             "outlinewidth": 0,
             "ticks": ""
            },
            "type": "contourcarpet"
           }
          ],
          "heatmap": [
           {
            "colorbar": {
             "outlinewidth": 0,
             "ticks": ""
            },
            "colorscale": [
             [
              0,
              "#0d0887"
             ],
             [
              0.1111111111111111,
              "#46039f"
             ],
             [
              0.2222222222222222,
              "#7201a8"
             ],
             [
              0.3333333333333333,
              "#9c179e"
             ],
             [
              0.4444444444444444,
              "#bd3786"
             ],
             [
              0.5555555555555556,
              "#d8576b"
             ],
             [
              0.6666666666666666,
              "#ed7953"
             ],
             [
              0.7777777777777778,
              "#fb9f3a"
             ],
             [
              0.8888888888888888,
              "#fdca26"
             ],
             [
              1,
              "#f0f921"
             ]
            ],
            "type": "heatmap"
           }
          ],
          "histogram": [
           {
            "marker": {
             "pattern": {
              "fillmode": "overlay",
              "size": 10,
              "solidity": 0.2
             }
            },
            "type": "histogram"
           }
          ],
          "histogram2d": [
           {
            "colorbar": {
             "outlinewidth": 0,
             "ticks": ""
            },
            "colorscale": [
             [
              0,
              "#0d0887"
             ],
             [
              0.1111111111111111,
              "#46039f"
             ],
             [
              0.2222222222222222,
              "#7201a8"
             ],
             [
              0.3333333333333333,
              "#9c179e"
             ],
             [
              0.4444444444444444,
              "#bd3786"
             ],
             [
              0.5555555555555556,
              "#d8576b"
             ],
             [
              0.6666666666666666,
              "#ed7953"
             ],
             [
              0.7777777777777778,
              "#fb9f3a"
             ],
             [
              0.8888888888888888,
              "#fdca26"
             ],
             [
              1,
              "#f0f921"
             ]
            ],
            "type": "histogram2d"
           }
          ],
          "histogram2dcontour": [
           {
            "colorbar": {
             "outlinewidth": 0,
             "ticks": ""
            },
            "colorscale": [
             [
              0,
              "#0d0887"
             ],
             [
              0.1111111111111111,
              "#46039f"
             ],
             [
              0.2222222222222222,
              "#7201a8"
             ],
             [
              0.3333333333333333,
              "#9c179e"
             ],
             [
              0.4444444444444444,
              "#bd3786"
             ],
             [
              0.5555555555555556,
              "#d8576b"
             ],
             [
              0.6666666666666666,
              "#ed7953"
             ],
             [
              0.7777777777777778,
              "#fb9f3a"
             ],
             [
              0.8888888888888888,
              "#fdca26"
             ],
             [
              1,
              "#f0f921"
             ]
            ],
            "type": "histogram2dcontour"
           }
          ],
          "mesh3d": [
           {
            "colorbar": {
             "outlinewidth": 0,
             "ticks": ""
            },
            "type": "mesh3d"
           }
          ],
          "parcoords": [
           {
            "line": {
             "colorbar": {
              "outlinewidth": 0,
              "ticks": ""
             }
            },
            "type": "parcoords"
           }
          ],
          "pie": [
           {
            "automargin": true,
            "type": "pie"
           }
          ],
          "scatter": [
           {
            "fillpattern": {
             "fillmode": "overlay",
             "size": 10,
             "solidity": 0.2
            },
            "type": "scatter"
           }
          ],
          "scatter3d": [
           {
            "line": {
             "colorbar": {
              "outlinewidth": 0,
              "ticks": ""
             }
            },
            "marker": {
             "colorbar": {
              "outlinewidth": 0,
              "ticks": ""
             }
            },
            "type": "scatter3d"
           }
          ],
          "scattercarpet": [
           {
            "marker": {
             "colorbar": {
              "outlinewidth": 0,
              "ticks": ""
             }
            },
            "type": "scattercarpet"
           }
          ],
          "scattergeo": [
           {
            "marker": {
             "colorbar": {
              "outlinewidth": 0,
              "ticks": ""
             }
            },
            "type": "scattergeo"
           }
          ],
          "scattergl": [
           {
            "marker": {
             "colorbar": {
              "outlinewidth": 0,
              "ticks": ""
             }
            },
            "type": "scattergl"
           }
          ],
          "scattermap": [
           {
            "marker": {
             "colorbar": {
              "outlinewidth": 0,
              "ticks": ""
             }
            },
            "type": "scattermap"
           }
          ],
          "scattermapbox": [
           {
            "marker": {
             "colorbar": {
              "outlinewidth": 0,
              "ticks": ""
             }
            },
            "type": "scattermapbox"
           }
          ],
          "scatterpolar": [
           {
            "marker": {
             "colorbar": {
              "outlinewidth": 0,
              "ticks": ""
             }
            },
            "type": "scatterpolar"
           }
          ],
          "scatterpolargl": [
           {
            "marker": {
             "colorbar": {
              "outlinewidth": 0,
              "ticks": ""
             }
            },
            "type": "scatterpolargl"
           }
          ],
          "scatterternary": [
           {
            "marker": {
             "colorbar": {
              "outlinewidth": 0,
              "ticks": ""
             }
            },
            "type": "scatterternary"
           }
          ],
          "surface": [
           {
            "colorbar": {
             "outlinewidth": 0,
             "ticks": ""
            },
            "colorscale": [
             [
              0,
              "#0d0887"
             ],
             [
              0.1111111111111111,
              "#46039f"
             ],
             [
              0.2222222222222222,
              "#7201a8"
             ],
             [
              0.3333333333333333,
              "#9c179e"
             ],
             [
              0.4444444444444444,
              "#bd3786"
             ],
             [
              0.5555555555555556,
              "#d8576b"
             ],
             [
              0.6666666666666666,
              "#ed7953"
             ],
             [
              0.7777777777777778,
              "#fb9f3a"
             ],
             [
              0.8888888888888888,
              "#fdca26"
             ],
             [
              1,
              "#f0f921"
             ]
            ],
            "type": "surface"
           }
          ],
          "table": [
           {
            "cells": {
             "fill": {
              "color": "#EBF0F8"
             },
             "line": {
              "color": "white"
             }
            },
            "header": {
             "fill": {
              "color": "#C8D4E3"
             },
             "line": {
              "color": "white"
             }
            },
            "type": "table"
           }
          ]
         },
         "layout": {
          "annotationdefaults": {
           "arrowcolor": "#2a3f5f",
           "arrowhead": 0,
           "arrowwidth": 1
          },
          "autotypenumbers": "strict",
          "coloraxis": {
           "colorbar": {
            "outlinewidth": 0,
            "ticks": ""
           }
          },
          "colorscale": {
           "diverging": [
            [
             0,
             "#8e0152"
            ],
            [
             0.1,
             "#c51b7d"
            ],
            [
             0.2,
             "#de77ae"
            ],
            [
             0.3,
             "#f1b6da"
            ],
            [
             0.4,
             "#fde0ef"
            ],
            [
             0.5,
             "#f7f7f7"
            ],
            [
             0.6,
             "#e6f5d0"
            ],
            [
             0.7,
             "#b8e186"
            ],
            [
             0.8,
             "#7fbc41"
            ],
            [
             0.9,
             "#4d9221"
            ],
            [
             1,
             "#276419"
            ]
           ],
           "sequential": [
            [
             0,
             "#0d0887"
            ],
            [
             0.1111111111111111,
             "#46039f"
            ],
            [
             0.2222222222222222,
             "#7201a8"
            ],
            [
             0.3333333333333333,
             "#9c179e"
            ],
            [
             0.4444444444444444,
             "#bd3786"
            ],
            [
             0.5555555555555556,
             "#d8576b"
            ],
            [
             0.6666666666666666,
             "#ed7953"
            ],
            [
             0.7777777777777778,
             "#fb9f3a"
            ],
            [
             0.8888888888888888,
             "#fdca26"
            ],
            [
             1,
             "#f0f921"
            ]
           ],
           "sequentialminus": [
            [
             0,
             "#0d0887"
            ],
            [
             0.1111111111111111,
             "#46039f"
            ],
            [
             0.2222222222222222,
             "#7201a8"
            ],
            [
             0.3333333333333333,
             "#9c179e"
            ],
            [
             0.4444444444444444,
             "#bd3786"
            ],
            [
             0.5555555555555556,
             "#d8576b"
            ],
            [
             0.6666666666666666,
             "#ed7953"
            ],
            [
             0.7777777777777778,
             "#fb9f3a"
            ],
            [
             0.8888888888888888,
             "#fdca26"
            ],
            [
             1,
             "#f0f921"
            ]
           ]
          },
          "colorway": [
           "#636efa",
           "#EF553B",
           "#00cc96",
           "#ab63fa",
           "#FFA15A",
           "#19d3f3",
           "#FF6692",
           "#B6E880",
           "#FF97FF",
           "#FECB52"
          ],
          "font": {
           "color": "#2a3f5f"
          },
          "geo": {
           "bgcolor": "white",
           "lakecolor": "white",
           "landcolor": "#E5ECF6",
           "showlakes": true,
           "showland": true,
           "subunitcolor": "white"
          },
          "hoverlabel": {
           "align": "left"
          },
          "hovermode": "closest",
          "mapbox": {
           "style": "light"
          },
          "paper_bgcolor": "white",
          "plot_bgcolor": "#E5ECF6",
          "polar": {
           "angularaxis": {
            "gridcolor": "white",
            "linecolor": "white",
            "ticks": ""
           },
           "bgcolor": "#E5ECF6",
           "radialaxis": {
            "gridcolor": "white",
            "linecolor": "white",
            "ticks": ""
           }
          },
          "scene": {
           "xaxis": {
            "backgroundcolor": "#E5ECF6",
            "gridcolor": "white",
            "gridwidth": 2,
            "linecolor": "white",
            "showbackground": true,
            "ticks": "",
            "zerolinecolor": "white"
           },
           "yaxis": {
            "backgroundcolor": "#E5ECF6",
            "gridcolor": "white",
            "gridwidth": 2,
            "linecolor": "white",
            "showbackground": true,
            "ticks": "",
            "zerolinecolor": "white"
           },
           "zaxis": {
            "backgroundcolor": "#E5ECF6",
            "gridcolor": "white",
            "gridwidth": 2,
            "linecolor": "white",
            "showbackground": true,
            "ticks": "",
            "zerolinecolor": "white"
           }
          },
          "shapedefaults": {
           "line": {
            "color": "#2a3f5f"
           }
          },
          "ternary": {
           "aaxis": {
            "gridcolor": "white",
            "linecolor": "white",
            "ticks": ""
           },
           "baxis": {
            "gridcolor": "white",
            "linecolor": "white",
            "ticks": ""
           },
           "bgcolor": "#E5ECF6",
           "caxis": {
            "gridcolor": "white",
            "linecolor": "white",
            "ticks": ""
           }
          },
          "title": {
           "x": 0.05
          },
          "xaxis": {
           "automargin": true,
           "gridcolor": "white",
           "linecolor": "white",
           "ticks": "",
           "title": {
            "standoff": 15
           },
           "zerolinecolor": "white",
           "zerolinewidth": 2
          },
          "yaxis": {
           "automargin": true,
           "gridcolor": "white",
           "linecolor": "white",
           "ticks": "",
           "title": {
            "standoff": 15
           },
           "zerolinecolor": "white",
           "zerolinewidth": 2
          }
         }
        }
       }
      }
     },
     "metadata": {},
     "output_type": "display_data"
    }
   ],
   "source": [
    "combined = torch.cat([gt, partial], dim=0)  # combine the partial and generated point clouds\n",
    "combined_labels = torch.cat([\n",
    "    torch.ones(gt.shape[0]) * 0,  # label for generated points\n",
    "    torch.ones(partial.shape[0]) * 1  # label for ground truth points\n",
    "], dim=0)\n",
    "\n",
    "plot(combined.cpu().numpy(), combined_labels.cpu().numpy(), label_map={0: 'Ground Truth', 1: 'Partial Input'})"
   ]
  },
  {
   "cell_type": "code",
   "execution_count": 66,
   "id": "d0d7065b",
   "metadata": {},
   "outputs": [
    {
     "data": {
      "application/vnd.plotly.v1+json": {
       "config": {
        "plotlyServerURL": "https://plot.ly"
       },
       "data": [
        {
         "hovertemplate": "label=Ground Truth<br>x=%{x}<br>y=%{y}<br>z=%{z}<extra></extra>",
         "legendgroup": "Ground Truth",
         "marker": {
          "color": "#1f77b4",
          "size": 1.5,
          "symbol": "circle"
         },
         "mode": "markers",
         "name": "Ground Truth",
         "scene": "scene",
         "showlegend": true,
         "type": "scatter3d",
         "x": {
          "bdata": "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",
          "dtype": "f8"
         },
         "y": {
          "bdata": "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",
          "dtype": "f8"
         },
         "z": {
          "bdata": "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",
          "dtype": "f8"
         }
        },
        {
         "hovertemplate": "label=Generated<br>x=%{x}<br>y=%{y}<br>z=%{z}<extra></extra>",
         "legendgroup": "Generated",
         "marker": {
          "color": "#ff7f0e",
          "size": 1.5,
          "symbol": "circle"
         },
         "mode": "markers",
         "name": "Generated",
         "scene": "scene",
         "showlegend": true,
         "type": "scatter3d",
         "x": {
          "bdata": "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",
          "dtype": "f8"
         },
         "y": {
          "bdata": "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",
          "dtype": "f8"
         },
         "z": {
          "bdata": "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",
          "dtype": "f8"
         }
        }
       ],
       "layout": {
        "legend": {
         "title": {
          "text": "label"
         },
         "tracegroupgap": 0
        },
        "margin": {
         "t": 60
        },
        "scene": {
         "domain": {
          "x": [
           0,
           1
          ],
          "y": [
           0,
           1
          ]
         },
         "xaxis": {
          "title": {
           "text": "x"
          }
         },
         "yaxis": {
          "title": {
           "text": "y"
          }
         },
         "zaxis": {
          "title": {
           "text": "z"
          }
         }
        },
        "template": {
         "data": {
          "bar": [
           {
            "error_x": {
             "color": "#2a3f5f"
            },
            "error_y": {
             "color": "#2a3f5f"
            },
            "marker": {
             "line": {
              "color": "#E5ECF6",
              "width": 0.5
             },
             "pattern": {
              "fillmode": "overlay",
              "size": 10,
              "solidity": 0.2
             }
            },
            "type": "bar"
           }
          ],
          "barpolar": [
           {
            "marker": {
             "line": {
              "color": "#E5ECF6",
              "width": 0.5
             },
             "pattern": {
              "fillmode": "overlay",
              "size": 10,
              "solidity": 0.2
             }
            },
            "type": "barpolar"
           }
          ],
          "carpet": [
           {
            "aaxis": {
             "endlinecolor": "#2a3f5f",
             "gridcolor": "white",
             "linecolor": "white",
             "minorgridcolor": "white",
             "startlinecolor": "#2a3f5f"
            },
            "baxis": {
             "endlinecolor": "#2a3f5f",
             "gridcolor": "white",
             "linecolor": "white",
             "minorgridcolor": "white",
             "startlinecolor": "#2a3f5f"
            },
            "type": "carpet"
           }
          ],
          "choropleth": [
           {
            "colorbar": {
             "outlinewidth": 0,
             "ticks": ""
            },
            "type": "choropleth"
           }
          ],
          "contour": [
           {
            "colorbar": {
             "outlinewidth": 0,
             "ticks": ""
            },
            "colorscale": [
             [
              0,
              "#0d0887"
             ],
             [
              0.1111111111111111,
              "#46039f"
             ],
             [
              0.2222222222222222,
              "#7201a8"
             ],
             [
              0.3333333333333333,
              "#9c179e"
             ],
             [
              0.4444444444444444,
              "#bd3786"
             ],
             [
              0.5555555555555556,
              "#d8576b"
             ],
             [
              0.6666666666666666,
              "#ed7953"
             ],
             [
              0.7777777777777778,
              "#fb9f3a"
             ],
             [
              0.8888888888888888,
              "#fdca26"
             ],
             [
              1,
              "#f0f921"
             ]
            ],
            "type": "contour"
           }
          ],
          "contourcarpet": [
           {
            "colorbar": {
             "outlinewidth": 0,
             "ticks": ""
            },
            "type": "contourcarpet"
           }
          ],
          "heatmap": [
           {
            "colorbar": {
             "outlinewidth": 0,
             "ticks": ""
            },
            "colorscale": [
             [
              0,
              "#0d0887"
             ],
             [
              0.1111111111111111,
              "#46039f"
             ],
             [
              0.2222222222222222,
              "#7201a8"
             ],
             [
              0.3333333333333333,
              "#9c179e"
             ],
             [
              0.4444444444444444,
              "#bd3786"
             ],
             [
              0.5555555555555556,
              "#d8576b"
             ],
             [
              0.6666666666666666,
              "#ed7953"
             ],
             [
              0.7777777777777778,
              "#fb9f3a"
             ],
             [
              0.8888888888888888,
              "#fdca26"
             ],
             [
              1,
              "#f0f921"
             ]
            ],
            "type": "heatmap"
           }
          ],
          "histogram": [
           {
            "marker": {
             "pattern": {
              "fillmode": "overlay",
              "size": 10,
              "solidity": 0.2
             }
            },
            "type": "histogram"
           }
          ],
          "histogram2d": [
           {
            "colorbar": {
             "outlinewidth": 0,
             "ticks": ""
            },
            "colorscale": [
             [
              0,
              "#0d0887"
             ],
             [
              0.1111111111111111,
              "#46039f"
             ],
             [
              0.2222222222222222,
              "#7201a8"
             ],
             [
              0.3333333333333333,
              "#9c179e"
             ],
             [
              0.4444444444444444,
              "#bd3786"
             ],
             [
              0.5555555555555556,
              "#d8576b"
             ],
             [
              0.6666666666666666,
              "#ed7953"
             ],
             [
              0.7777777777777778,
              "#fb9f3a"
             ],
             [
              0.8888888888888888,
              "#fdca26"
             ],
             [
              1,
              "#f0f921"
             ]
            ],
            "type": "histogram2d"
           }
          ],
          "histogram2dcontour": [
           {
            "colorbar": {
             "outlinewidth": 0,
             "ticks": ""
            },
            "colorscale": [
             [
              0,
              "#0d0887"
             ],
             [
              0.1111111111111111,
              "#46039f"
             ],
             [
              0.2222222222222222,
              "#7201a8"
             ],
             [
              0.3333333333333333,
              "#9c179e"
             ],
             [
              0.4444444444444444,
              "#bd3786"
             ],
             [
              0.5555555555555556,
              "#d8576b"
             ],
             [
              0.6666666666666666,
              "#ed7953"
             ],
             [
              0.7777777777777778,
              "#fb9f3a"
             ],
             [
              0.8888888888888888,
              "#fdca26"
             ],
             [
              1,
              "#f0f921"
             ]
            ],
            "type": "histogram2dcontour"
           }
          ],
          "mesh3d": [
           {
            "colorbar": {
             "outlinewidth": 0,
             "ticks": ""
            },
            "type": "mesh3d"
           }
          ],
          "parcoords": [
           {
            "line": {
             "colorbar": {
              "outlinewidth": 0,
              "ticks": ""
             }
            },
            "type": "parcoords"
           }
          ],
          "pie": [
           {
            "automargin": true,
            "type": "pie"
           }
          ],
          "scatter": [
           {
            "fillpattern": {
             "fillmode": "overlay",
             "size": 10,
             "solidity": 0.2
            },
            "type": "scatter"
           }
          ],
          "scatter3d": [
           {
            "line": {
             "colorbar": {
              "outlinewidth": 0,
              "ticks": ""
             }
            },
            "marker": {
             "colorbar": {
              "outlinewidth": 0,
              "ticks": ""
             }
            },
            "type": "scatter3d"
           }
          ],
          "scattercarpet": [
           {
            "marker": {
             "colorbar": {
              "outlinewidth": 0,
              "ticks": ""
             }
            },
            "type": "scattercarpet"
           }
          ],
          "scattergeo": [
           {
            "marker": {
             "colorbar": {
              "outlinewidth": 0,
              "ticks": ""
             }
            },
            "type": "scattergeo"
           }
          ],
          "scattergl": [
           {
            "marker": {
             "colorbar": {
              "outlinewidth": 0,
              "ticks": ""
             }
            },
            "type": "scattergl"
           }
          ],
          "scattermap": [
           {
            "marker": {
             "colorbar": {
              "outlinewidth": 0,
              "ticks": ""
             }
            },
            "type": "scattermap"
           }
          ],
          "scattermapbox": [
           {
            "marker": {
             "colorbar": {
              "outlinewidth": 0,
              "ticks": ""
             }
            },
            "type": "scattermapbox"
           }
          ],
          "scatterpolar": [
           {
            "marker": {
             "colorbar": {
              "outlinewidth": 0,
              "ticks": ""
             }
            },
            "type": "scatterpolar"
           }
          ],
          "scatterpolargl": [
           {
            "marker": {
             "colorbar": {
              "outlinewidth": 0,
              "ticks": ""
             }
            },
            "type": "scatterpolargl"
           }
          ],
          "scatterternary": [
           {
            "marker": {
             "colorbar": {
              "outlinewidth": 0,
              "ticks": ""
             }
            },
            "type": "scatterternary"
           }
          ],
          "surface": [
           {
            "colorbar": {
             "outlinewidth": 0,
             "ticks": ""
            },
            "colorscale": [
             [
              0,
              "#0d0887"
             ],
             [
              0.1111111111111111,
              "#46039f"
             ],
             [
              0.2222222222222222,
              "#7201a8"
             ],
             [
              0.3333333333333333,
              "#9c179e"
             ],
             [
              0.4444444444444444,
              "#bd3786"
             ],
             [
              0.5555555555555556,
              "#d8576b"
             ],
             [
              0.6666666666666666,
              "#ed7953"
             ],
             [
              0.7777777777777778,
              "#fb9f3a"
             ],
             [
              0.8888888888888888,
              "#fdca26"
             ],
             [
              1,
              "#f0f921"
             ]
            ],
            "type": "surface"
           }
          ],
          "table": [
           {
            "cells": {
             "fill": {
              "color": "#EBF0F8"
             },
             "line": {
              "color": "white"
             }
            },
            "header": {
             "fill": {
              "color": "#C8D4E3"
             },
             "line": {
              "color": "white"
             }
            },
            "type": "table"
           }
          ]
         },
         "layout": {
          "annotationdefaults": {
           "arrowcolor": "#2a3f5f",
           "arrowhead": 0,
           "arrowwidth": 1
          },
          "autotypenumbers": "strict",
          "coloraxis": {
           "colorbar": {
            "outlinewidth": 0,
            "ticks": ""
           }
          },
          "colorscale": {
           "diverging": [
            [
             0,
             "#8e0152"
            ],
            [
             0.1,
             "#c51b7d"
            ],
            [
             0.2,
             "#de77ae"
            ],
            [
             0.3,
             "#f1b6da"
            ],
            [
             0.4,
             "#fde0ef"
            ],
            [
             0.5,
             "#f7f7f7"
            ],
            [
             0.6,
             "#e6f5d0"
            ],
            [
             0.7,
             "#b8e186"
            ],
            [
             0.8,
             "#7fbc41"
            ],
            [
             0.9,
             "#4d9221"
            ],
            [
             1,
             "#276419"
            ]
           ],
           "sequential": [
            [
             0,
             "#0d0887"
            ],
            [
             0.1111111111111111,
             "#46039f"
            ],
            [
             0.2222222222222222,
             "#7201a8"
            ],
            [
             0.3333333333333333,
             "#9c179e"
            ],
            [
             0.4444444444444444,
             "#bd3786"
            ],
            [
             0.5555555555555556,
             "#d8576b"
            ],
            [
             0.6666666666666666,
             "#ed7953"
            ],
            [
             0.7777777777777778,
             "#fb9f3a"
            ],
            [
             0.8888888888888888,
             "#fdca26"
            ],
            [
             1,
             "#f0f921"
            ]
           ],
           "sequentialminus": [
            [
             0,
             "#0d0887"
            ],
            [
             0.1111111111111111,
             "#46039f"
            ],
            [
             0.2222222222222222,
             "#7201a8"
            ],
            [
             0.3333333333333333,
             "#9c179e"
            ],
            [
             0.4444444444444444,
             "#bd3786"
            ],
            [
             0.5555555555555556,
             "#d8576b"
            ],
            [
             0.6666666666666666,
             "#ed7953"
            ],
            [
             0.7777777777777778,
             "#fb9f3a"
            ],
            [
             0.8888888888888888,
             "#fdca26"
            ],
            [
             1,
             "#f0f921"
            ]
           ]
          },
          "colorway": [
           "#636efa",
           "#EF553B",
           "#00cc96",
           "#ab63fa",
           "#FFA15A",
           "#19d3f3",
           "#FF6692",
           "#B6E880",
           "#FF97FF",
           "#FECB52"
          ],
          "font": {
           "color": "#2a3f5f"
          },
          "geo": {
           "bgcolor": "white",
           "lakecolor": "white",
           "landcolor": "#E5ECF6",
           "showlakes": true,
           "showland": true,
           "subunitcolor": "white"
          },
          "hoverlabel": {
           "align": "left"
          },
          "hovermode": "closest",
          "mapbox": {
           "style": "light"
          },
          "paper_bgcolor": "white",
          "plot_bgcolor": "#E5ECF6",
          "polar": {
           "angularaxis": {
            "gridcolor": "white",
            "linecolor": "white",
            "ticks": ""
           },
           "bgcolor": "#E5ECF6",
           "radialaxis": {
            "gridcolor": "white",
            "linecolor": "white",
            "ticks": ""
           }
          },
          "scene": {
           "xaxis": {
            "backgroundcolor": "#E5ECF6",
            "gridcolor": "white",
            "gridwidth": 2,
            "linecolor": "white",
            "showbackground": true,
            "ticks": "",
            "zerolinecolor": "white"
           },
           "yaxis": {
            "backgroundcolor": "#E5ECF6",
            "gridcolor": "white",
            "gridwidth": 2,
            "linecolor": "white",
            "showbackground": true,
            "ticks": "",
            "zerolinecolor": "white"
           },
           "zaxis": {
            "backgroundcolor": "#E5ECF6",
            "gridcolor": "white",
            "gridwidth": 2,
            "linecolor": "white",
            "showbackground": true,
            "ticks": "",
            "zerolinecolor": "white"
           }
          },
          "shapedefaults": {
           "line": {
            "color": "#2a3f5f"
           }
          },
          "ternary": {
           "aaxis": {
            "gridcolor": "white",
            "linecolor": "white",
            "ticks": ""
           },
           "baxis": {
            "gridcolor": "white",
            "linecolor": "white",
            "ticks": ""
           },
           "bgcolor": "#E5ECF6",
           "caxis": {
            "gridcolor": "white",
            "linecolor": "white",
            "ticks": ""
           }
          },
          "title": {
           "x": 0.05
          },
          "xaxis": {
           "automargin": true,
           "gridcolor": "white",
           "linecolor": "white",
           "ticks": "",
           "title": {
            "standoff": 15
           },
           "zerolinecolor": "white",
           "zerolinewidth": 2
          },
          "yaxis": {
           "automargin": true,
           "gridcolor": "white",
           "linecolor": "white",
           "ticks": "",
           "title": {
            "standoff": 15
           },
           "zerolinecolor": "white",
           "zerolinewidth": 2
          }
         }
        }
       }
      }
     },
     "metadata": {},
     "output_type": "display_data"
    }
   ],
   "source": [
    "combined = torch.cat([gt, out], dim=0)  # combine the partial and generated point clouds\n",
    "combined_labels = torch.cat([\n",
    "    torch.ones(gt.shape[0]) * 0,  # label for generated points\n",
    "    torch.ones(out.shape[0]) * 1  # label for ground truth points\n",
    "], dim=0)\n",
    "\n",
    "plot(combined.cpu().numpy(), combined_labels.cpu().numpy(), label_map={0: 'Ground Truth', 1: 'Generated'})"
   ]
  }
 ],
 "metadata": {
  "kernelspec": {
   "display_name": "gecco",
   "language": "python",
   "name": "python3"
  },
  "language_info": {
   "codemirror_mode": {
    "name": "ipython",
    "version": 3
   },
   "file_extension": ".py",
   "mimetype": "text/x-python",
   "name": "python",
   "nbconvert_exporter": "python",
   "pygments_lexer": "ipython3",
   "version": "3.10.18"
  }
 },
 "nbformat": 4,
 "nbformat_minor": 5
}
